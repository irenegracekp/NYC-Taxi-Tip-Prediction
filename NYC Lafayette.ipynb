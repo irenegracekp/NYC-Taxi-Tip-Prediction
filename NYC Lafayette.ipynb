{
  "nbformat": 4,
  "nbformat_minor": 0,
  "metadata": {
    "colab": {
      "provenance": [],
      "machine_shape": "hm"
    },
    "kernelspec": {
      "name": "python3",
      "display_name": "Python 3"
    },
    "language_info": {
      "name": "python"
    },
    "gpuClass": "premium",
    "accelerator": "GPU"
  },
  "cells": [
    {
      "cell_type": "code",
      "execution_count": 1,
      "metadata": {
        "colab": {
          "base_uri": "https://localhost:8080/"
        },
        "id": "lkwv2WUQhCwc",
        "outputId": "27efc600-6230-4148-a42a-36f99cc83152"
      },
      "outputs": [
        {
          "output_type": "stream",
          "name": "stdout",
          "text": [
            "Mounted at /content/drive\n"
          ]
        }
      ],
      "source": [
        "from google.colab import drive\n",
        "drive.mount('/content/drive')"
      ]
    },
    {
      "cell_type": "code",
      "source": [
        "import matplotlib.pyplot as plt\n",
        "import pandas as pd\n",
        "import seaborn as sns\n",
        "import numpy as np\n",
        "from sklearn.linear_model import LinearRegression\n",
        "from sklearn.metrics import mean_squared_error,r2_score\n",
        "from sklearn.model_selection import train_test_split\n",
        "from sklearn.metrics import r2_score\n",
        "from sklearn.metrics import mean_squared_error\n",
        "from scipy import stats\n",
        "from math import sqrt"
      ],
      "metadata": {
        "id": "cHQeEMCmp1OJ"
      },
      "execution_count": 2,
      "outputs": []
    },
    {
      "cell_type": "code",
      "source": [
        "master_df = pd.read_csv(\"/content/drive/MyDrive/NYC/2021_Yellow_Taxi_Trip_Data-2.csv\",low_memory=False)\n",
        "print(master_df.head())  "
      ],
      "metadata": {
        "colab": {
          "base_uri": "https://localhost:8080/"
        },
        "id": "kICsyGV8kLFu",
        "outputId": "123aa06b-706a-4e82-f165-fdec1c0b9b09"
      },
      "execution_count": 3,
      "outputs": [
        {
          "output_type": "stream",
          "name": "stdout",
          "text": [
            "   VendorID    tpep_pickup_datetime   tpep_dropoff_datetime  passenger_count  \\\n",
            "0         1  01/01/2021 12:30:10 AM  01/01/2021 12:36:12 AM              1.0   \n",
            "1         1  01/01/2021 12:51:20 AM  01/01/2021 12:52:19 AM              1.0   \n",
            "2         1  01/01/2021 12:43:30 AM  01/01/2021 01:11:06 AM              1.0   \n",
            "3         1  01/01/2021 12:15:48 AM  01/01/2021 12:31:01 AM              0.0   \n",
            "4         1  01/01/2021 12:16:29 AM  01/01/2021 12:24:30 AM              1.0   \n",
            "\n",
            "   trip_distance  RatecodeID store_and_fwd_flag  PULocationID  DOLocationID  \\\n",
            "0            2.1         1.0                  N           142            43   \n",
            "1            0.2         1.0                  N           238           151   \n",
            "2           14.7         1.0                  N           132           165   \n",
            "3           10.6         1.0                  N           138           132   \n",
            "4            1.6         1.0                  N           224            68   \n",
            "\n",
            "   payment_type  fare_amount  extra  mta_tax  tip_amount  tolls_amount  \\\n",
            "0             2          8.0    3.0      0.5        0.00           0.0   \n",
            "1             2          3.0    0.5      0.5        0.00           0.0   \n",
            "2             1         42.0    0.5      0.5        8.65           0.0   \n",
            "3             1         29.0    0.5      0.5        6.05           0.0   \n",
            "4             1          8.0    3.0      0.5        2.35           0.0   \n",
            "\n",
            "   improvement_surcharge  total_amount  congestion_surcharge  \n",
            "0                    0.3         11.80                   2.5  \n",
            "1                    0.3          4.30                   0.0  \n",
            "2                    0.3         51.95                   0.0  \n",
            "3                    0.3         36.35                   0.0  \n",
            "4                    0.3         14.15                   2.5  \n"
          ]
        }
      ]
    },
    {
      "cell_type": "markdown",
      "source": [
        "# Pre-Processing"
      ],
      "metadata": {
        "id": "lq28izj8q2hC"
      }
    },
    {
      "cell_type": "code",
      "source": [
        "master_df.head()"
      ],
      "metadata": {
        "colab": {
          "base_uri": "https://localhost:8080/",
          "height": 268
        },
        "id": "IH34oBVVmUYq",
        "outputId": "768b2159-94b5-4ad5-a2ec-b85eccab95bb"
      },
      "execution_count": 4,
      "outputs": [
        {
          "output_type": "execute_result",
          "data": {
            "text/plain": [
              "   VendorID    tpep_pickup_datetime   tpep_dropoff_datetime  passenger_count  \\\n",
              "0         1  01/01/2021 12:30:10 AM  01/01/2021 12:36:12 AM              1.0   \n",
              "1         1  01/01/2021 12:51:20 AM  01/01/2021 12:52:19 AM              1.0   \n",
              "2         1  01/01/2021 12:43:30 AM  01/01/2021 01:11:06 AM              1.0   \n",
              "3         1  01/01/2021 12:15:48 AM  01/01/2021 12:31:01 AM              0.0   \n",
              "4         1  01/01/2021 12:16:29 AM  01/01/2021 12:24:30 AM              1.0   \n",
              "\n",
              "   trip_distance  RatecodeID store_and_fwd_flag  PULocationID  DOLocationID  \\\n",
              "0            2.1         1.0                  N           142            43   \n",
              "1            0.2         1.0                  N           238           151   \n",
              "2           14.7         1.0                  N           132           165   \n",
              "3           10.6         1.0                  N           138           132   \n",
              "4            1.6         1.0                  N           224            68   \n",
              "\n",
              "   payment_type  fare_amount  extra  mta_tax  tip_amount  tolls_amount  \\\n",
              "0             2          8.0    3.0      0.5        0.00           0.0   \n",
              "1             2          3.0    0.5      0.5        0.00           0.0   \n",
              "2             1         42.0    0.5      0.5        8.65           0.0   \n",
              "3             1         29.0    0.5      0.5        6.05           0.0   \n",
              "4             1          8.0    3.0      0.5        2.35           0.0   \n",
              "\n",
              "   improvement_surcharge  total_amount  congestion_surcharge  \n",
              "0                    0.3         11.80                   2.5  \n",
              "1                    0.3          4.30                   0.0  \n",
              "2                    0.3         51.95                   0.0  \n",
              "3                    0.3         36.35                   0.0  \n",
              "4                    0.3         14.15                   2.5  "
            ],
            "text/html": [
              "\n",
              "  <div id=\"df-ea77b572-5fc1-43f1-a097-229571a23f28\">\n",
              "    <div class=\"colab-df-container\">\n",
              "      <div>\n",
              "<style scoped>\n",
              "    .dataframe tbody tr th:only-of-type {\n",
              "        vertical-align: middle;\n",
              "    }\n",
              "\n",
              "    .dataframe tbody tr th {\n",
              "        vertical-align: top;\n",
              "    }\n",
              "\n",
              "    .dataframe thead th {\n",
              "        text-align: right;\n",
              "    }\n",
              "</style>\n",
              "<table border=\"1\" class=\"dataframe\">\n",
              "  <thead>\n",
              "    <tr style=\"text-align: right;\">\n",
              "      <th></th>\n",
              "      <th>VendorID</th>\n",
              "      <th>tpep_pickup_datetime</th>\n",
              "      <th>tpep_dropoff_datetime</th>\n",
              "      <th>passenger_count</th>\n",
              "      <th>trip_distance</th>\n",
              "      <th>RatecodeID</th>\n",
              "      <th>store_and_fwd_flag</th>\n",
              "      <th>PULocationID</th>\n",
              "      <th>DOLocationID</th>\n",
              "      <th>payment_type</th>\n",
              "      <th>fare_amount</th>\n",
              "      <th>extra</th>\n",
              "      <th>mta_tax</th>\n",
              "      <th>tip_amount</th>\n",
              "      <th>tolls_amount</th>\n",
              "      <th>improvement_surcharge</th>\n",
              "      <th>total_amount</th>\n",
              "      <th>congestion_surcharge</th>\n",
              "    </tr>\n",
              "  </thead>\n",
              "  <tbody>\n",
              "    <tr>\n",
              "      <th>0</th>\n",
              "      <td>1</td>\n",
              "      <td>01/01/2021 12:30:10 AM</td>\n",
              "      <td>01/01/2021 12:36:12 AM</td>\n",
              "      <td>1.0</td>\n",
              "      <td>2.1</td>\n",
              "      <td>1.0</td>\n",
              "      <td>N</td>\n",
              "      <td>142</td>\n",
              "      <td>43</td>\n",
              "      <td>2</td>\n",
              "      <td>8.0</td>\n",
              "      <td>3.0</td>\n",
              "      <td>0.5</td>\n",
              "      <td>0.00</td>\n",
              "      <td>0.0</td>\n",
              "      <td>0.3</td>\n",
              "      <td>11.80</td>\n",
              "      <td>2.5</td>\n",
              "    </tr>\n",
              "    <tr>\n",
              "      <th>1</th>\n",
              "      <td>1</td>\n",
              "      <td>01/01/2021 12:51:20 AM</td>\n",
              "      <td>01/01/2021 12:52:19 AM</td>\n",
              "      <td>1.0</td>\n",
              "      <td>0.2</td>\n",
              "      <td>1.0</td>\n",
              "      <td>N</td>\n",
              "      <td>238</td>\n",
              "      <td>151</td>\n",
              "      <td>2</td>\n",
              "      <td>3.0</td>\n",
              "      <td>0.5</td>\n",
              "      <td>0.5</td>\n",
              "      <td>0.00</td>\n",
              "      <td>0.0</td>\n",
              "      <td>0.3</td>\n",
              "      <td>4.30</td>\n",
              "      <td>0.0</td>\n",
              "    </tr>\n",
              "    <tr>\n",
              "      <th>2</th>\n",
              "      <td>1</td>\n",
              "      <td>01/01/2021 12:43:30 AM</td>\n",
              "      <td>01/01/2021 01:11:06 AM</td>\n",
              "      <td>1.0</td>\n",
              "      <td>14.7</td>\n",
              "      <td>1.0</td>\n",
              "      <td>N</td>\n",
              "      <td>132</td>\n",
              "      <td>165</td>\n",
              "      <td>1</td>\n",
              "      <td>42.0</td>\n",
              "      <td>0.5</td>\n",
              "      <td>0.5</td>\n",
              "      <td>8.65</td>\n",
              "      <td>0.0</td>\n",
              "      <td>0.3</td>\n",
              "      <td>51.95</td>\n",
              "      <td>0.0</td>\n",
              "    </tr>\n",
              "    <tr>\n",
              "      <th>3</th>\n",
              "      <td>1</td>\n",
              "      <td>01/01/2021 12:15:48 AM</td>\n",
              "      <td>01/01/2021 12:31:01 AM</td>\n",
              "      <td>0.0</td>\n",
              "      <td>10.6</td>\n",
              "      <td>1.0</td>\n",
              "      <td>N</td>\n",
              "      <td>138</td>\n",
              "      <td>132</td>\n",
              "      <td>1</td>\n",
              "      <td>29.0</td>\n",
              "      <td>0.5</td>\n",
              "      <td>0.5</td>\n",
              "      <td>6.05</td>\n",
              "      <td>0.0</td>\n",
              "      <td>0.3</td>\n",
              "      <td>36.35</td>\n",
              "      <td>0.0</td>\n",
              "    </tr>\n",
              "    <tr>\n",
              "      <th>4</th>\n",
              "      <td>1</td>\n",
              "      <td>01/01/2021 12:16:29 AM</td>\n",
              "      <td>01/01/2021 12:24:30 AM</td>\n",
              "      <td>1.0</td>\n",
              "      <td>1.6</td>\n",
              "      <td>1.0</td>\n",
              "      <td>N</td>\n",
              "      <td>224</td>\n",
              "      <td>68</td>\n",
              "      <td>1</td>\n",
              "      <td>8.0</td>\n",
              "      <td>3.0</td>\n",
              "      <td>0.5</td>\n",
              "      <td>2.35</td>\n",
              "      <td>0.0</td>\n",
              "      <td>0.3</td>\n",
              "      <td>14.15</td>\n",
              "      <td>2.5</td>\n",
              "    </tr>\n",
              "  </tbody>\n",
              "</table>\n",
              "</div>\n",
              "      <button class=\"colab-df-convert\" onclick=\"convertToInteractive('df-ea77b572-5fc1-43f1-a097-229571a23f28')\"\n",
              "              title=\"Convert this dataframe to an interactive table.\"\n",
              "              style=\"display:none;\">\n",
              "        \n",
              "  <svg xmlns=\"http://www.w3.org/2000/svg\" height=\"24px\"viewBox=\"0 0 24 24\"\n",
              "       width=\"24px\">\n",
              "    <path d=\"M0 0h24v24H0V0z\" fill=\"none\"/>\n",
              "    <path d=\"M18.56 5.44l.94 2.06.94-2.06 2.06-.94-2.06-.94-.94-2.06-.94 2.06-2.06.94zm-11 1L8.5 8.5l.94-2.06 2.06-.94-2.06-.94L8.5 2.5l-.94 2.06-2.06.94zm10 10l.94 2.06.94-2.06 2.06-.94-2.06-.94-.94-2.06-.94 2.06-2.06.94z\"/><path d=\"M17.41 7.96l-1.37-1.37c-.4-.4-.92-.59-1.43-.59-.52 0-1.04.2-1.43.59L10.3 9.45l-7.72 7.72c-.78.78-.78 2.05 0 2.83L4 21.41c.39.39.9.59 1.41.59.51 0 1.02-.2 1.41-.59l7.78-7.78 2.81-2.81c.8-.78.8-2.07 0-2.86zM5.41 20L4 18.59l7.72-7.72 1.47 1.35L5.41 20z\"/>\n",
              "  </svg>\n",
              "      </button>\n",
              "      \n",
              "  <style>\n",
              "    .colab-df-container {\n",
              "      display:flex;\n",
              "      flex-wrap:wrap;\n",
              "      gap: 12px;\n",
              "    }\n",
              "\n",
              "    .colab-df-convert {\n",
              "      background-color: #E8F0FE;\n",
              "      border: none;\n",
              "      border-radius: 50%;\n",
              "      cursor: pointer;\n",
              "      display: none;\n",
              "      fill: #1967D2;\n",
              "      height: 32px;\n",
              "      padding: 0 0 0 0;\n",
              "      width: 32px;\n",
              "    }\n",
              "\n",
              "    .colab-df-convert:hover {\n",
              "      background-color: #E2EBFA;\n",
              "      box-shadow: 0px 1px 2px rgba(60, 64, 67, 0.3), 0px 1px 3px 1px rgba(60, 64, 67, 0.15);\n",
              "      fill: #174EA6;\n",
              "    }\n",
              "\n",
              "    [theme=dark] .colab-df-convert {\n",
              "      background-color: #3B4455;\n",
              "      fill: #D2E3FC;\n",
              "    }\n",
              "\n",
              "    [theme=dark] .colab-df-convert:hover {\n",
              "      background-color: #434B5C;\n",
              "      box-shadow: 0px 1px 3px 1px rgba(0, 0, 0, 0.15);\n",
              "      filter: drop-shadow(0px 1px 2px rgba(0, 0, 0, 0.3));\n",
              "      fill: #FFFFFF;\n",
              "    }\n",
              "  </style>\n",
              "\n",
              "      <script>\n",
              "        const buttonEl =\n",
              "          document.querySelector('#df-ea77b572-5fc1-43f1-a097-229571a23f28 button.colab-df-convert');\n",
              "        buttonEl.style.display =\n",
              "          google.colab.kernel.accessAllowed ? 'block' : 'none';\n",
              "\n",
              "        async function convertToInteractive(key) {\n",
              "          const element = document.querySelector('#df-ea77b572-5fc1-43f1-a097-229571a23f28');\n",
              "          const dataTable =\n",
              "            await google.colab.kernel.invokeFunction('convertToInteractive',\n",
              "                                                     [key], {});\n",
              "          if (!dataTable) return;\n",
              "\n",
              "          const docLinkHtml = 'Like what you see? Visit the ' +\n",
              "            '<a target=\"_blank\" href=https://colab.research.google.com/notebooks/data_table.ipynb>data table notebook</a>'\n",
              "            + ' to learn more about interactive tables.';\n",
              "          element.innerHTML = '';\n",
              "          dataTable['output_type'] = 'display_data';\n",
              "          await google.colab.output.renderOutput(dataTable, element);\n",
              "          const docLink = document.createElement('div');\n",
              "          docLink.innerHTML = docLinkHtml;\n",
              "          element.appendChild(docLink);\n",
              "        }\n",
              "      </script>\n",
              "    </div>\n",
              "  </div>\n",
              "  "
            ]
          },
          "metadata": {},
          "execution_count": 4
        }
      ]
    },
    {
      "cell_type": "code",
      "source": [
        "#finding outliers in tip amount\n",
        "master_df['tip_amount'].nlargest(10)"
      ],
      "metadata": {
        "colab": {
          "base_uri": "https://localhost:8080/"
        },
        "id": "F30e9CSIxo0e",
        "outputId": "aea42910-9df5-4b80-e023-6d4805dedc9a"
      },
      "execution_count": 5,
      "outputs": [
        {
          "output_type": "execute_result",
          "data": {
            "text/plain": [
              "244852     1140.44\n",
              "7421451     999.99\n",
              "7460221     780.00\n",
              "1335925     700.00\n",
              "8143419     650.00\n",
              "6249900     500.00\n",
              "8058637     400.04\n",
              "704859      400.00\n",
              "2264412     400.00\n",
              "18687       369.40\n",
              "Name: tip_amount, dtype: float64"
            ]
          },
          "metadata": {},
          "execution_count": 5
        }
      ]
    },
    {
      "cell_type": "code",
      "source": [
        "plt.xlim(0,20)\n",
        "sns.histplot(data=master_df, x=\"tip_amount\",bins =2000)\n",
        "plt.show()"
      ],
      "metadata": {
        "colab": {
          "base_uri": "https://localhost:8080/",
          "height": 291
        },
        "id": "Fj0CZZoxs2L9",
        "outputId": "106689f3-4caa-4f5e-8aff-3b4bbed0fff6"
      },
      "execution_count": 6,
      "outputs": [
        {
          "output_type": "display_data",
          "data": {
            "text/plain": [
              "<Figure size 432x288 with 1 Axes>"
            ],
            "image/png": "[encoded data removed]"
          },
          "metadata": {
            "needs_background": "light"
          }
        }
      ]
    },
    {
      "cell_type": "code",
      "source": [
        "master_df['tip_amount'].value_counts()"
      ],
      "metadata": {
        "colab": {
          "base_uri": "https://localhost:8080/"
        },
        "id": "GVtZltcJy_zr",
        "outputId": "40a36a90-bae4-484f-f9f5-87f5b8007e88"
      },
      "execution_count": 7,
      "outputs": [
        {
          "output_type": "execute_result",
          "data": {
            "text/plain": [
              "0.00     2563738\n",
              "1.00      530092\n",
              "2.00      489314\n",
              "2.45      186286\n",
              "2.05      177429\n",
              "          ...   \n",
              "79.40          1\n",
              "52.35          1\n",
              "58.86          1\n",
              "75.30          1\n",
              "18.53          1\n",
              "Name: tip_amount, Length: 2867, dtype: int64"
            ]
          },
          "metadata": {},
          "execution_count": 7
        }
      ]
    },
    {
      "cell_type": "markdown",
      "source": [
        "**Discovered that a lot of people are tipping almost 0 dollars. Need to find the reason behind this.**"
      ],
      "metadata": {
        "id": "D1pBLw0Szyi3"
      }
    },
    {
      "cell_type": "code",
      "source": [
        "for i in range(7):\n",
        "  print(\"Payment type \" +str(i)+ \" customer count: \",len(master_df[(master_df['payment_type']==i)]))"
      ],
      "metadata": {
        "colab": {
          "base_uri": "https://localhost:8080/"
        },
        "id": "7JNbxpCjzlGk",
        "outputId": "ca82bbcf-13aa-498c-a439-b1b9806076f9"
      },
      "execution_count": 8,
      "outputs": [
        {
          "output_type": "stream",
          "name": "stdout",
          "text": [
            "Payment type 0 customer count:  103014\n",
            "Payment type 1 customer count:  6932977\n",
            "Payment type 2 customer count:  2018701\n",
            "Payment type 3 customer count:  113155\n",
            "Payment type 4 customer count:  46910\n",
            "Payment type 5 customer count:  4\n",
            "Payment type 6 customer count:  0\n"
          ]
        }
      ]
    },
    {
      "cell_type": "code",
      "source": [
        "no_tip_count=master_df.groupby('payment_type')['tip_amount'].apply(lambda x: (x==0).sum()).reset_index(name='count')\n",
        "print(no_tip_count)"
      ],
      "metadata": {
        "colab": {
          "base_uri": "https://localhost:8080/"
        },
        "id": "9MAO9OPu0h-Q",
        "outputId": "b25349d1-934e-41b3-d299-4479eab93042"
      },
      "execution_count": 9,
      "outputs": [
        {
          "output_type": "stream",
          "name": "stdout",
          "text": [
            "   payment_type    count\n",
            "0             0     2361\n",
            "1             1   382800\n",
            "2             2  2018586\n",
            "3             3   113089\n",
            "4             4    46898\n",
            "5             5        4\n"
          ]
        }
      ]
    },
    {
      "cell_type": "markdown",
      "source": [
        "From above we can see, that 99% of the customers paying using the paymment type 2(cash), 3(no charge), 4(dispute) and 5(unknown) are tipping 0 dollars. The reason behind this is that cash tips are not recorded in the dataset. Other payment type tips are also either not recorded or have faulty data collection. Either ways, we need to drop these rows to reduce the noise. "
      ],
      "metadata": {
        "id": "1N_K411uEKuN"
      }
    },
    {
      "cell_type": "code",
      "source": [
        "master_df.shape"
      ],
      "metadata": {
        "id": "S7r-LP_E37UM",
        "colab": {
          "base_uri": "https://localhost:8080/"
        },
        "outputId": "3f766718-7438-4c6b-ee66-8c8c251560e6"
      },
      "execution_count": 10,
      "outputs": [
        {
          "output_type": "execute_result",
          "data": {
            "text/plain": [
              "(9214761, 18)"
            ]
          },
          "metadata": {},
          "execution_count": 10
        }
      ]
    },
    {
      "cell_type": "code",
      "source": [
        "#Dropped rows where payment is not done by credit card and where fare amount is not greater than zero\n",
        "master_df = master_df[(master_df.payment_type==1) & (master_df.fare_amount >0)]"
      ],
      "metadata": {
        "id": "xKH38nEis2Gw"
      },
      "execution_count": 11,
      "outputs": []
    },
    {
      "cell_type": "code",
      "source": [
        "master_df.shape"
      ],
      "metadata": {
        "id": "gxJta8rms1_4",
        "colab": {
          "base_uri": "https://localhost:8080/"
        },
        "outputId": "ed901a7e-ea6f-4846-d07a-1e97ce0f6f07"
      },
      "execution_count": 12,
      "outputs": [
        {
          "output_type": "execute_result",
          "data": {
            "text/plain": [
              "(6931657, 18)"
            ]
          },
          "metadata": {},
          "execution_count": 12
        }
      ]
    },
    {
      "cell_type": "code",
      "source": [
        "#Converted to date time format\n",
        "master_df['tpep_pickup_datetime'] = pd.to_datetime(master_df['tpep_pickup_datetime'], format = '%m/%d/%Y %I:%M:%S %p', errors = 'raise')\n",
        "master_df['tpep_dropoff_datetime'] = pd.to_datetime(master_df['tpep_dropoff_datetime'], format = '%m/%d/%Y %I:%M:%S %p', errors = 'raise')"
      ],
      "metadata": {
        "id": "5igGDS6PJSAc"
      },
      "execution_count": 13,
      "outputs": []
    },
    {
      "cell_type": "code",
      "source": [
        "master_df['pickup_weekday']=master_df.tpep_dropoff_datetime.dt.dayofweek"
      ],
      "metadata": {
        "id": "ltIkrA0tJIq0"
      },
      "execution_count": 14,
      "outputs": []
    },
    {
      "cell_type": "code",
      "source": [
        "master_df['pickup_weekday'].value_counts()"
      ],
      "metadata": {
        "colab": {
          "base_uri": "https://localhost:8080/"
        },
        "id": "5UFKftaf-JeM",
        "outputId": "76f5b18a-a4f2-475c-8758-0e6df147f92d"
      },
      "execution_count": 15,
      "outputs": [
        {
          "output_type": "execute_result",
          "data": {
            "text/plain": [
              "4    1100066\n",
              "3    1081351\n",
              "2    1072089\n",
              "1    1012692\n",
              "5     990357\n",
              "0     897415\n",
              "6     777687\n",
              "Name: pickup_weekday, dtype: int64"
            ]
          },
          "metadata": {},
          "execution_count": 15
        }
      ]
    },
    {
      "cell_type": "code",
      "source": [
        "master_df['pickup_hour']=master_df.tpep_pickup_datetime.dt.hour"
      ],
      "metadata": {
        "id": "-xaSDmtm-Zeu"
      },
      "execution_count": 16,
      "outputs": []
    },
    {
      "cell_type": "code",
      "source": [
        "master_df['pickup_hour'].value_counts()"
      ],
      "metadata": {
        "colab": {
          "base_uri": "https://localhost:8080/"
        },
        "id": "b0Ss0JOg-iF4",
        "outputId": "0b3bdc75-799d-4cfc-f4ed-bee36235d237"
      },
      "execution_count": 17,
      "outputs": [
        {
          "output_type": "execute_result",
          "data": {
            "text/plain": [
              "18    518534\n",
              "17    511561\n",
              "15    482815\n",
              "16    474118\n",
              "14    466207\n",
              "19    444417\n",
              "13    428644\n",
              "12    412704\n",
              "11    375158\n",
              "20    350534\n",
              "10    341406\n",
              "21    313027\n",
              "9     312064\n",
              "8     290755\n",
              "22    284742\n",
              "23    218644\n",
              "7     208661\n",
              "0     146266\n",
              "6     105120\n",
              "1      92116\n",
              "2      60541\n",
              "3      36980\n",
              "5      33156\n",
              "4      23487\n",
              "Name: pickup_hour, dtype: int64"
            ]
          },
          "metadata": {},
          "execution_count": 17
        }
      ]
    },
    {
      "cell_type": "code",
      "source": [
        "master_df.loc[ (master_df['pickup_hour'] >= 0) & (master_df['pickup_hour'] < 6), 'pickup_hour'] = 0    # 0 - Early Morning\n",
        "master_df.loc[ (master_df['pickup_hour'] >= 6) & (master_df['pickup_hour'] < 12), 'pickup_hour'] = 1    # 1 - Morning\n",
        "master_df.loc[ (master_df['pickup_hour'] >= 12) & (master_df['pickup_hour'] < 18), 'pickup_hour'] = 2    # 2 - Afternoon\n",
        "master_df.loc[ (master_df['pickup_hour'] >= 18) & (master_df['pickup_hour'] <= 23), 'pickup_hour'] = 3    # 3 - Night"
      ],
      "metadata": {
        "id": "IM93_rzyxFEq"
      },
      "execution_count": 18,
      "outputs": []
    },
    {
      "cell_type": "code",
      "source": [
        "tip_by_daytime =master_df.groupby('pickup_hour')['tip_amount'].apply(lambda x: x.mean()).reset_index(name='mean')\n",
        "print(tip_by_daytime)"
      ],
      "metadata": {
        "colab": {
          "base_uri": "https://localhost:8080/"
        },
        "id": "XkcihcSrrjag",
        "outputId": "e960ae95-e472-4098-b375-d8175b2be420"
      },
      "execution_count": 19,
      "outputs": [
        {
          "output_type": "stream",
          "name": "stdout",
          "text": [
            "   pickup_hour      mean\n",
            "0            0  3.136492\n",
            "1            1  2.833926\n",
            "2            2  2.992721\n",
            "3            3  2.997179\n"
          ]
        }
      ]
    },
    {
      "cell_type": "code",
      "source": [
        "master_df['dropoff_weekday']=master_df.tpep_dropoff_datetime.dt.dayofweek"
      ],
      "metadata": {
        "id": "S8M3W1-O8fWs"
      },
      "execution_count": 20,
      "outputs": []
    },
    {
      "cell_type": "code",
      "source": [
        "master_df['dropoff_weekday'].value_counts()"
      ],
      "metadata": {
        "colab": {
          "base_uri": "https://localhost:8080/"
        },
        "id": "8sG1VGa5_Hxc",
        "outputId": "c4a7c09a-1566-4bfd-b87f-adc3924ee8fe"
      },
      "execution_count": 21,
      "outputs": [
        {
          "output_type": "execute_result",
          "data": {
            "text/plain": [
              "4    1100066\n",
              "3    1081351\n",
              "2    1072089\n",
              "1    1012692\n",
              "5     990357\n",
              "0     897415\n",
              "6     777687\n",
              "Name: dropoff_weekday, dtype: int64"
            ]
          },
          "metadata": {},
          "execution_count": 21
        }
      ]
    },
    {
      "cell_type": "code",
      "source": [
        "master_df['drop_hour']=master_df.tpep_dropoff_datetime.dt.hour"
      ],
      "metadata": {
        "id": "mtp3qAv__O8k"
      },
      "execution_count": 22,
      "outputs": []
    },
    {
      "cell_type": "code",
      "source": [
        "master_df['drop_hour'].value_counts()"
      ],
      "metadata": {
        "colab": {
          "base_uri": "https://localhost:8080/"
        },
        "id": "WhItzLsr_jQB",
        "outputId": "c91d559f-ee9e-4023-fe23-59fe59745b2d"
      },
      "execution_count": 23,
      "outputs": [
        {
          "output_type": "execute_result",
          "data": {
            "text/plain": [
              "18    534685\n",
              "17    507538\n",
              "15    477715\n",
              "16    474027\n",
              "19    472318\n",
              "14    450360\n",
              "13    420932\n",
              "12    405862\n",
              "20    367413\n",
              "11    363350\n",
              "10    333358\n",
              "21    318303\n",
              "9     308906\n",
              "22    292728\n",
              "8     274941\n",
              "23    234669\n",
              "7     182728\n",
              "0     162411\n",
              "1     102012\n",
              "6      88199\n",
              "2      66401\n",
              "3      40269\n",
              "5      27405\n",
              "4      25127\n",
              "Name: drop_hour, dtype: int64"
            ]
          },
          "metadata": {},
          "execution_count": 23
        }
      ]
    },
    {
      "cell_type": "code",
      "source": [
        "master_df['RatecodeID'].value_counts()"
      ],
      "metadata": {
        "colab": {
          "base_uri": "https://localhost:8080/"
        },
        "id": "C_ednaXq_sHi",
        "outputId": "10052a18-7c32-4010-9861-c91dcac156dc"
      },
      "execution_count": 24,
      "outputs": [
        {
          "output_type": "execute_result",
          "data": {
            "text/plain": [
              "1.0     6729335\n",
              "2.0      151117\n",
              "5.0       23443\n",
              "3.0       11324\n",
              "99.0      10726\n",
              "4.0        5707\n",
              "6.0           5\n",
              "Name: RatecodeID, dtype: int64"
            ]
          },
          "metadata": {},
          "execution_count": 24
        }
      ]
    },
    {
      "cell_type": "code",
      "source": [
        "#Dropped rows where Ratecode ID is 99 beacause rate code ID 99 is not defined\n",
        "master_df=master_df[master_df.RatecodeID!=99.0]"
      ],
      "metadata": {
        "id": "NBAatocA_6K-"
      },
      "execution_count": 25,
      "outputs": []
    },
    {
      "cell_type": "code",
      "source": [
        "Location_lookup = pd.read_csv(\"/content/drive/MyDrive/NYC/taxi+_zone_lookup.csv\",low_memory=False)"
      ],
      "metadata": {
        "id": "3k7ATtnPzQnT"
      },
      "execution_count": 26,
      "outputs": []
    },
    {
      "cell_type": "code",
      "source": [
        "master_df1 = pd.merge(master_df,Location_lookup,how ='inner',left_on=master_df['PULocationID'],right_on =Location_lookup['LocationID'] )"
      ],
      "metadata": {
        "id": "Ipnq0wZV0pXf"
      },
      "execution_count": 27,
      "outputs": []
    },
    {
      "cell_type": "code",
      "source": [
        "master_df1.head(10)"
      ],
      "metadata": {
        "colab": {
          "base_uri": "https://localhost:8080/",
          "height": 622
        },
        "id": "cV0kvyoU1jIx",
        "outputId": "37c16109-9ef0-46fc-a333-b4e22394dbff"
      },
      "execution_count": 28,
      "outputs": [
        {
          "output_type": "execute_result",
          "data": {
            "text/plain": [
              "   key_0  VendorID tpep_pickup_datetime tpep_dropoff_datetime  \\\n",
              "0    132         1  2021-01-01 00:43:30   2021-01-01 01:11:06   \n",
              "1    132         1  2021-01-01 00:22:52   2021-01-01 00:43:49   \n",
              "2    132         1  2021-01-01 00:29:16   2021-01-01 00:40:18   \n",
              "3    132         1  2021-01-01 00:49:24   2021-01-01 01:28:19   \n",
              "4    132         1  2021-01-01 00:28:31   2021-01-01 00:48:37   \n",
              "5    132         1  2021-01-01 01:16:47   2021-01-01 01:39:27   \n",
              "6    132         1  2021-01-01 02:05:15   2021-01-01 02:38:00   \n",
              "7    132         1  2021-01-01 04:44:47   2021-01-01 05:16:17   \n",
              "8    132         1  2021-01-01 05:41:02   2021-01-01 05:59:06   \n",
              "9    132         1  2021-01-01 05:43:57   2021-01-01 06:15:42   \n",
              "\n",
              "   passenger_count  trip_distance  RatecodeID store_and_fwd_flag  \\\n",
              "0              1.0           14.7         1.0                  N   \n",
              "1              1.0           17.2         2.0                  N   \n",
              "2              1.0            5.3         1.0                  N   \n",
              "3              3.0           17.5         1.0                  N   \n",
              "4              1.0           14.5         1.0                  N   \n",
              "5              1.0           18.0         2.0                  Y   \n",
              "6              0.0           18.9         2.0                  N   \n",
              "7              1.0           14.7         1.0                  N   \n",
              "8              2.0            8.5         1.0                  N   \n",
              "9              0.0           19.8         2.0                  N   \n",
              "\n",
              "   PULocationID  DOLocationID  ...  total_amount  congestion_surcharge  \\\n",
              "0           132           165  ...         51.95                   0.0   \n",
              "1           132           107  ...         73.67                   2.5   \n",
              "2           132           139  ...         22.25                   0.0   \n",
              "3           132            62  ...         56.80                   0.0   \n",
              "4           132             7  ...         48.35                   0.0   \n",
              "5           132             4  ...         55.30                   2.5   \n",
              "6           132           230  ...         61.42                   2.5   \n",
              "7           132            62  ...         47.80                   0.0   \n",
              "8           132            38  ...         31.55                   0.0   \n",
              "9           132           140  ...         71.42                   2.5   \n",
              "\n",
              "   pickup_weekday  pickup_hour  dropoff_weekday  drop_hour  LocationID  \\\n",
              "0               4            0                4          1         132   \n",
              "1               4            0                4          0         132   \n",
              "2               4            0                4          0         132   \n",
              "3               4            0                4          1         132   \n",
              "4               4            0                4          0         132   \n",
              "5               4            0                4          1         132   \n",
              "6               4            0                4          2         132   \n",
              "7               4            0                4          5         132   \n",
              "8               4            0                4          5         132   \n",
              "9               4            0                4          6         132   \n",
              "\n",
              "   Borough         Zone  service_zone  \n",
              "0   Queens  JFK Airport      Airports  \n",
              "1   Queens  JFK Airport      Airports  \n",
              "2   Queens  JFK Airport      Airports  \n",
              "3   Queens  JFK Airport      Airports  \n",
              "4   Queens  JFK Airport      Airports  \n",
              "5   Queens  JFK Airport      Airports  \n",
              "6   Queens  JFK Airport      Airports  \n",
              "7   Queens  JFK Airport      Airports  \n",
              "8   Queens  JFK Airport      Airports  \n",
              "9   Queens  JFK Airport      Airports  \n",
              "\n",
              "[10 rows x 27 columns]"
            ],
            "text/html": [
              "\n",
              "  <div id=\"df-628db33c-e9a7-42da-9f16-767cc70e3913\">\n",
              "    <div class=\"colab-df-container\">\n",
              "      <div>\n",
              "<style scoped>\n",
              "    .dataframe tbody tr th:only-of-type {\n",
              "        vertical-align: middle;\n",
              "    }\n",
              "\n",
              "    .dataframe tbody tr th {\n",
              "        vertical-align: top;\n",
              "    }\n",
              "\n",
              "    .dataframe thead th {\n",
              "        text-align: right;\n",
              "    }\n",
              "</style>\n",
              "<table border=\"1\" class=\"dataframe\">\n",
              "  <thead>\n",
              "    <tr style=\"text-align: right;\">\n",
              "      <th></th>\n",
              "      <th>key_0</th>\n",
              "      <th>VendorID</th>\n",
              "      <th>tpep_pickup_datetime</th>\n",
              "      <th>tpep_dropoff_datetime</th>\n",
              "      <th>passenger_count</th>\n",
              "      <th>trip_distance</th>\n",
              "      <th>RatecodeID</th>\n",
              "      <th>store_and_fwd_flag</th>\n",
              "      <th>PULocationID</th>\n",
              "      <th>DOLocationID</th>\n",
              "      <th>...</th>\n",
              "      <th>total_amount</th>\n",
              "      <th>congestion_surcharge</th>\n",
              "      <th>pickup_weekday</th>\n",
              "      <th>pickup_hour</th>\n",
              "      <th>dropoff_weekday</th>\n",
              "      <th>drop_hour</th>\n",
              "      <th>LocationID</th>\n",
              "      <th>Borough</th>\n",
              "      <th>Zone</th>\n",
              "      <th>service_zone</th>\n",
              "    </tr>\n",
              "  </thead>\n",
              "  <tbody>\n",
              "    <tr>\n",
              "      <th>0</th>\n",
              "      <td>132</td>\n",
              "      <td>1</td>\n",
              "      <td>2021-01-01 00:43:30</td>\n",
              "      <td>2021-01-01 01:11:06</td>\n",
              "      <td>1.0</td>\n",
              "      <td>14.7</td>\n",
              "      <td>1.0</td>\n",
              "      <td>N</td>\n",
              "      <td>132</td>\n",
              "      <td>165</td>\n",
              "      <td>...</td>\n",
              "      <td>51.95</td>\n",
              "      <td>0.0</td>\n",
              "      <td>4</td>\n",
              "      <td>0</td>\n",
              "      <td>4</td>\n",
              "      <td>1</td>\n",
              "      <td>132</td>\n",
              "      <td>Queens</td>\n",
              "      <td>JFK Airport</td>\n",
              "      <td>Airports</td>\n",
              "    </tr>\n",
              "    <tr>\n",
              "      <th>1</th>\n",
              "      <td>132</td>\n",
              "      <td>1</td>\n",
              "      <td>2021-01-01 00:22:52</td>\n",
              "      <td>2021-01-01 00:43:49</td>\n",
              "      <td>1.0</td>\n",
              "      <td>17.2</td>\n",
              "      <td>2.0</td>\n",
              "      <td>N</td>\n",
              "      <td>132</td>\n",
              "      <td>107</td>\n",
              "      <td>...</td>\n",
              "      <td>73.67</td>\n",
              "      <td>2.5</td>\n",
              "      <td>4</td>\n",
              "      <td>0</td>\n",
              "      <td>4</td>\n",
              "      <td>0</td>\n",
              "      <td>132</td>\n",
              "      <td>Queens</td>\n",
              "      <td>JFK Airport</td>\n",
              "      <td>Airports</td>\n",
              "    </tr>\n",
              "    <tr>\n",
              "      <th>2</th>\n",
              "      <td>132</td>\n",
              "      <td>1</td>\n",
              "      <td>2021-01-01 00:29:16</td>\n",
              "      <td>2021-01-01 00:40:18</td>\n",
              "      <td>1.0</td>\n",
              "      <td>5.3</td>\n",
              "      <td>1.0</td>\n",
              "      <td>N</td>\n",
              "      <td>132</td>\n",
              "      <td>139</td>\n",
              "      <td>...</td>\n",
              "      <td>22.25</td>\n",
              "      <td>0.0</td>\n",
              "      <td>4</td>\n",
              "      <td>0</td>\n",
              "      <td>4</td>\n",
              "      <td>0</td>\n",
              "      <td>132</td>\n",
              "      <td>Queens</td>\n",
              "      <td>JFK Airport</td>\n",
              "      <td>Airports</td>\n",
              "    </tr>\n",
              "    <tr>\n",
              "      <th>3</th>\n",
              "      <td>132</td>\n",
              "      <td>1</td>\n",
              "      <td>2021-01-01 00:49:24</td>\n",
              "      <td>2021-01-01 01:28:19</td>\n",
              "      <td>3.0</td>\n",
              "      <td>17.5</td>\n",
              "      <td>1.0</td>\n",
              "      <td>N</td>\n",
              "      <td>132</td>\n",
              "      <td>62</td>\n",
              "      <td>...</td>\n",
              "      <td>56.80</td>\n",
              "      <td>0.0</td>\n",
              "      <td>4</td>\n",
              "      <td>0</td>\n",
              "      <td>4</td>\n",
              "      <td>1</td>\n",
              "      <td>132</td>\n",
              "      <td>Queens</td>\n",
              "      <td>JFK Airport</td>\n",
              "      <td>Airports</td>\n",
              "    </tr>\n",
              "    <tr>\n",
              "      <th>4</th>\n",
              "      <td>132</td>\n",
              "      <td>1</td>\n",
              "      <td>2021-01-01 00:28:31</td>\n",
              "      <td>2021-01-01 00:48:37</td>\n",
              "      <td>1.0</td>\n",
              "      <td>14.5</td>\n",
              "      <td>1.0</td>\n",
              "      <td>N</td>\n",
              "      <td>132</td>\n",
              "      <td>7</td>\n",
              "      <td>...</td>\n",
              "      <td>48.35</td>\n",
              "      <td>0.0</td>\n",
              "      <td>4</td>\n",
              "      <td>0</td>\n",
              "      <td>4</td>\n",
              "      <td>0</td>\n",
              "      <td>132</td>\n",
              "      <td>Queens</td>\n",
              "      <td>JFK Airport</td>\n",
              "      <td>Airports</td>\n",
              "    </tr>\n",
              "    <tr>\n",
              "      <th>5</th>\n",
              "      <td>132</td>\n",
              "      <td>1</td>\n",
              "      <td>2021-01-01 01:16:47</td>\n",
              "      <td>2021-01-01 01:39:27</td>\n",
              "      <td>1.0</td>\n",
              "      <td>18.0</td>\n",
              "      <td>2.0</td>\n",
              "      <td>Y</td>\n",
              "      <td>132</td>\n",
              "      <td>4</td>\n",
              "      <td>...</td>\n",
              "      <td>55.30</td>\n",
              "      <td>2.5</td>\n",
              "      <td>4</td>\n",
              "      <td>0</td>\n",
              "      <td>4</td>\n",
              "      <td>1</td>\n",
              "      <td>132</td>\n",
              "      <td>Queens</td>\n",
              "      <td>JFK Airport</td>\n",
              "      <td>Airports</td>\n",
              "    </tr>\n",
              "    <tr>\n",
              "      <th>6</th>\n",
              "      <td>132</td>\n",
              "      <td>1</td>\n",
              "      <td>2021-01-01 02:05:15</td>\n",
              "      <td>2021-01-01 02:38:00</td>\n",
              "      <td>0.0</td>\n",
              "      <td>18.9</td>\n",
              "      <td>2.0</td>\n",
              "      <td>N</td>\n",
              "      <td>132</td>\n",
              "      <td>230</td>\n",
              "      <td>...</td>\n",
              "      <td>61.42</td>\n",
              "      <td>2.5</td>\n",
              "      <td>4</td>\n",
              "      <td>0</td>\n",
              "      <td>4</td>\n",
              "      <td>2</td>\n",
              "      <td>132</td>\n",
              "      <td>Queens</td>\n",
              "      <td>JFK Airport</td>\n",
              "      <td>Airports</td>\n",
              "    </tr>\n",
              "    <tr>\n",
              "      <th>7</th>\n",
              "      <td>132</td>\n",
              "      <td>1</td>\n",
              "      <td>2021-01-01 04:44:47</td>\n",
              "      <td>2021-01-01 05:16:17</td>\n",
              "      <td>1.0</td>\n",
              "      <td>14.7</td>\n",
              "      <td>1.0</td>\n",
              "      <td>N</td>\n",
              "      <td>132</td>\n",
              "      <td>62</td>\n",
              "      <td>...</td>\n",
              "      <td>47.80</td>\n",
              "      <td>0.0</td>\n",
              "      <td>4</td>\n",
              "      <td>0</td>\n",
              "      <td>4</td>\n",
              "      <td>5</td>\n",
              "      <td>132</td>\n",
              "      <td>Queens</td>\n",
              "      <td>JFK Airport</td>\n",
              "      <td>Airports</td>\n",
              "    </tr>\n",
              "    <tr>\n",
              "      <th>8</th>\n",
              "      <td>132</td>\n",
              "      <td>1</td>\n",
              "      <td>2021-01-01 05:41:02</td>\n",
              "      <td>2021-01-01 05:59:06</td>\n",
              "      <td>2.0</td>\n",
              "      <td>8.5</td>\n",
              "      <td>1.0</td>\n",
              "      <td>N</td>\n",
              "      <td>132</td>\n",
              "      <td>38</td>\n",
              "      <td>...</td>\n",
              "      <td>31.55</td>\n",
              "      <td>0.0</td>\n",
              "      <td>4</td>\n",
              "      <td>0</td>\n",
              "      <td>4</td>\n",
              "      <td>5</td>\n",
              "      <td>132</td>\n",
              "      <td>Queens</td>\n",
              "      <td>JFK Airport</td>\n",
              "      <td>Airports</td>\n",
              "    </tr>\n",
              "    <tr>\n",
              "      <th>9</th>\n",
              "      <td>132</td>\n",
              "      <td>1</td>\n",
              "      <td>2021-01-01 05:43:57</td>\n",
              "      <td>2021-01-01 06:15:42</td>\n",
              "      <td>0.0</td>\n",
              "      <td>19.8</td>\n",
              "      <td>2.0</td>\n",
              "      <td>N</td>\n",
              "      <td>132</td>\n",
              "      <td>140</td>\n",
              "      <td>...</td>\n",
              "      <td>71.42</td>\n",
              "      <td>2.5</td>\n",
              "      <td>4</td>\n",
              "      <td>0</td>\n",
              "      <td>4</td>\n",
              "      <td>6</td>\n",
              "      <td>132</td>\n",
              "      <td>Queens</td>\n",
              "      <td>JFK Airport</td>\n",
              "      <td>Airports</td>\n",
              "    </tr>\n",
              "  </tbody>\n",
              "</table>\n",
              "<p>10 rows × 27 columns</p>\n",
              "</div>\n",
              "      <button class=\"colab-df-convert\" onclick=\"convertToInteractive('df-628db33c-e9a7-42da-9f16-767cc70e3913')\"\n",
              "              title=\"Convert this dataframe to an interactive table.\"\n",
              "              style=\"display:none;\">\n",
              "        \n",
              "  <svg xmlns=\"http://www.w3.org/2000/svg\" height=\"24px\"viewBox=\"0 0 24 24\"\n",
              "       width=\"24px\">\n",
              "    <path d=\"M0 0h24v24H0V0z\" fill=\"none\"/>\n",
              "    <path d=\"M18.56 5.44l.94 2.06.94-2.06 2.06-.94-2.06-.94-.94-2.06-.94 2.06-2.06.94zm-11 1L8.5 8.5l.94-2.06 2.06-.94-2.06-.94L8.5 2.5l-.94 2.06-2.06.94zm10 10l.94 2.06.94-2.06 2.06-.94-2.06-.94-.94-2.06-.94 2.06-2.06.94z\"/><path d=\"M17.41 7.96l-1.37-1.37c-.4-.4-.92-.59-1.43-.59-.52 0-1.04.2-1.43.59L10.3 9.45l-7.72 7.72c-.78.78-.78 2.05 0 2.83L4 21.41c.39.39.9.59 1.41.59.51 0 1.02-.2 1.41-.59l7.78-7.78 2.81-2.81c.8-.78.8-2.07 0-2.86zM5.41 20L4 18.59l7.72-7.72 1.47 1.35L5.41 20z\"/>\n",
              "  </svg>\n",
              "      </button>\n",
              "      \n",
              "  <style>\n",
              "    .colab-df-container {\n",
              "      display:flex;\n",
              "      flex-wrap:wrap;\n",
              "      gap: 12px;\n",
              "    }\n",
              "\n",
              "    .colab-df-convert {\n",
              "      background-color: #E8F0FE;\n",
              "      border: none;\n",
              "      border-radius: 50%;\n",
              "      cursor: pointer;\n",
              "      display: none;\n",
              "      fill: #1967D2;\n",
              "      height: 32px;\n",
              "      padding: 0 0 0 0;\n",
              "      width: 32px;\n",
              "    }\n",
              "\n",
              "    .colab-df-convert:hover {\n",
              "      background-color: #E2EBFA;\n",
              "      box-shadow: 0px 1px 2px rgba(60, 64, 67, 0.3), 0px 1px 3px 1px rgba(60, 64, 67, 0.15);\n",
              "      fill: #174EA6;\n",
              "    }\n",
              "\n",
              "    [theme=dark] .colab-df-convert {\n",
              "      background-color: #3B4455;\n",
              "      fill: #D2E3FC;\n",
              "    }\n",
              "\n",
              "    [theme=dark] .colab-df-convert:hover {\n",
              "      background-color: #434B5C;\n",
              "      box-shadow: 0px 1px 3px 1px rgba(0, 0, 0, 0.15);\n",
              "      filter: drop-shadow(0px 1px 2px rgba(0, 0, 0, 0.3));\n",
              "      fill: #FFFFFF;\n",
              "    }\n",
              "  </style>\n",
              "\n",
              "      <script>\n",
              "        const buttonEl =\n",
              "          document.querySelector('#df-628db33c-e9a7-42da-9f16-767cc70e3913 button.colab-df-convert');\n",
              "        buttonEl.style.display =\n",
              "          google.colab.kernel.accessAllowed ? 'block' : 'none';\n",
              "\n",
              "        async function convertToInteractive(key) {\n",
              "          const element = document.querySelector('#df-628db33c-e9a7-42da-9f16-767cc70e3913');\n",
              "          const dataTable =\n",
              "            await google.colab.kernel.invokeFunction('convertToInteractive',\n",
              "                                                     [key], {});\n",
              "          if (!dataTable) return;\n",
              "\n",
              "          const docLinkHtml = 'Like what you see? Visit the ' +\n",
              "            '<a target=\"_blank\" href=https://colab.research.google.com/notebooks/data_table.ipynb>data table notebook</a>'\n",
              "            + ' to learn more about interactive tables.';\n",
              "          element.innerHTML = '';\n",
              "          dataTable['output_type'] = 'display_data';\n",
              "          await google.colab.output.renderOutput(dataTable, element);\n",
              "          const docLink = document.createElement('div');\n",
              "          docLink.innerHTML = docLinkHtml;\n",
              "          element.appendChild(docLink);\n",
              "        }\n",
              "      </script>\n",
              "    </div>\n",
              "  </div>\n",
              "  "
            ]
          },
          "metadata": {},
          "execution_count": 28
        }
      ]
    },
    {
      "cell_type": "code",
      "source": [
        "master_df1.loc[ master_df1['Borough'] == 'Queens' , 'Pickup_Area'] = 1\n",
        "master_df1.loc[ master_df1['Borough'] == 'Bronx' , 'Pickup_Area'] = 2\n",
        "master_df1.loc[ master_df1['Borough'] == 'Brooklyn' , 'Pickup_Area'] = 3\n",
        "master_df1.loc[ master_df1['Borough'] == 'Staten Island' , 'Pickup_Area'] = 4\n",
        "master_df1.loc[ master_df1['Borough'] == 'Manhattan' , 'Pickup_Area'] = 5\n",
        "master_df1.loc[ (master_df1['Zone'] == 'Newark Airport') | (master_df1['Zone']  == 'JFK Airport') | (master_df1['Zone']  == 'LaGuardia Airport') | (master_df1['Borough'] == 'Unknown' ),  'Pickup_Area'] = 6 #Airport Area"
      ],
      "metadata": {
        "id": "3LmUgd2l2Xw0"
      },
      "execution_count": 29,
      "outputs": []
    },
    {
      "cell_type": "code",
      "source": [
        "master_df1['Pickup_Area'].value_counts()"
      ],
      "metadata": {
        "colab": {
          "base_uri": "https://localhost:8080/"
        },
        "id": "VAES1wAh5wEe",
        "outputId": "6593081e-bb02-427d-dbe5-b5ff42ff91dd"
      },
      "execution_count": 30,
      "outputs": [
        {
          "output_type": "execute_result",
          "data": {
            "text/plain": [
              "5.0    6413927\n",
              "6.0     407106\n",
              "1.0      45765\n",
              "3.0      41693\n",
              "2.0      12392\n",
              "4.0         48\n",
              "Name: Pickup_Area, dtype: int64"
            ]
          },
          "metadata": {},
          "execution_count": 30
        }
      ]
    },
    {
      "cell_type": "code",
      "source": [
        "master_df1['Pickup_Area'].isnull().sum()"
      ],
      "metadata": {
        "colab": {
          "base_uri": "https://localhost:8080/"
        },
        "id": "Q_Vw6gH-7pvf",
        "outputId": "8bbf168a-221d-45fa-8140-784fbafc0663"
      },
      "execution_count": 31,
      "outputs": [
        {
          "output_type": "execute_result",
          "data": {
            "text/plain": [
              "0"
            ]
          },
          "metadata": {},
          "execution_count": 31
        }
      ]
    },
    {
      "cell_type": "code",
      "source": [
        "master_df1 = master_df1.drop(['key_0','Borough','service_zone','LocationID','Zone'],axis=1)"
      ],
      "metadata": {
        "id": "XbUcp0HK8oKS"
      },
      "execution_count": 32,
      "outputs": []
    },
    {
      "cell_type": "code",
      "source": [
        "master_df = pd.merge(master_df1,Location_lookup,how ='inner',left_on=master_df['DOLocationID'],right_on =Location_lookup['LocationID'] )"
      ],
      "metadata": {
        "id": "2b0QVy-08ZQa"
      },
      "execution_count": 33,
      "outputs": []
    },
    {
      "cell_type": "code",
      "source": [
        "master_df.loc[ master_df['Borough'] == 'Queens' , 'Dropoff_Area'] = 1\n",
        "master_df.loc[ master_df['Borough'] == 'Bronx' , 'Dropoff_Area'] = 2\n",
        "master_df.loc[ master_df['Borough'] == 'Brooklyn' , 'Dropoff_Area'] = 3\n",
        "master_df.loc[ master_df['Borough'] == 'Staten Island' , 'Dropoff_Area'] = 4\n",
        "master_df.loc[ master_df['Borough'] == 'Manhattan' , 'Dropoff_Area'] = 5\n",
        "master_df.loc[ (master_df['Zone'] == 'Newark Airport') | (master_df['Zone']  == 'JFK Airport') | (master_df['Zone']  == 'LaGuardia Airport') | (master_df['Borough'] == 'Unknown' ),  'Dropoff_Area'] = 6 #Airport Area"
      ],
      "metadata": {
        "id": "Tg9gqYUY-2g9"
      },
      "execution_count": 34,
      "outputs": []
    },
    {
      "cell_type": "code",
      "source": [
        "master_df['Dropoff_Area'].value_counts()"
      ],
      "metadata": {
        "colab": {
          "base_uri": "https://localhost:8080/"
        },
        "id": "1W8X90mw_aLX",
        "outputId": "e288411d-b6e8-4c48-8292-0886feb3ed1b"
      },
      "execution_count": 35,
      "outputs": [
        {
          "output_type": "execute_result",
          "data": {
            "text/plain": [
              "5.0    6340431\n",
              "3.0     244242\n",
              "6.0     151073\n",
              "1.0     142539\n",
              "2.0      41464\n",
              "4.0       1182\n",
              "Name: Dropoff_Area, dtype: int64"
            ]
          },
          "metadata": {},
          "execution_count": 35
        }
      ]
    },
    {
      "cell_type": "code",
      "source": [
        "master_df['Dropoff_Area'].isnull().sum()"
      ],
      "metadata": {
        "colab": {
          "base_uri": "https://localhost:8080/"
        },
        "id": "rKdAxhoa_VGt",
        "outputId": "c7a81dea-289c-4364-84d8-2b2c9423220c"
      },
      "execution_count": 36,
      "outputs": [
        {
          "output_type": "execute_result",
          "data": {
            "text/plain": [
              "0"
            ]
          },
          "metadata": {},
          "execution_count": 36
        }
      ]
    },
    {
      "cell_type": "code",
      "source": [
        "master_df = master_df.drop(['key_0','Borough','service_zone','LocationID','Zone','PULocationID','DOLocationID','VendorID','payment_type'],axis=1)"
      ],
      "metadata": {
        "id": "iQqT9kqt_lPS"
      },
      "execution_count": 37,
      "outputs": []
    },
    {
      "cell_type": "code",
      "source": [
        "master_df.head(10)"
      ],
      "metadata": {
        "colab": {
          "base_uri": "https://localhost:8080/",
          "height": 423
        },
        "id": "WAhU_jJHJHnO",
        "outputId": "d3680399-3599-4d0a-d08d-a754eed08de7"
      },
      "execution_count": 38,
      "outputs": [
        {
          "output_type": "execute_result",
          "data": {
            "text/plain": [
              "  tpep_pickup_datetime tpep_dropoff_datetime  passenger_count  trip_distance  \\\n",
              "0  2021-01-01 00:43:30   2021-01-01 01:11:06              1.0           14.7   \n",
              "1  2021-02-04 15:12:48   2021-02-04 15:56:26              1.0           12.5   \n",
              "2  2021-03-23 15:47:15   2021-03-23 16:47:09              1.0           14.3   \n",
              "3  2021-03-27 20:29:59   2021-03-27 21:14:14              1.0           25.2   \n",
              "4  2021-04-14 23:07:30   2021-04-14 23:36:41              1.0           19.2   \n",
              "5  2021-04-21 06:09:57   2021-04-21 06:46:51              1.0           15.4   \n",
              "6  2021-04-21 12:35:20   2021-04-21 13:15:57              1.0           19.0   \n",
              "7  2021-04-29 13:33:17   2021-04-29 14:25:38              2.0           18.4   \n",
              "8  2021-05-21 15:34:10   2021-05-21 16:21:54              1.0           17.2   \n",
              "9  2021-05-22 21:41:51   2021-05-22 22:20:47              1.0           17.5   \n",
              "\n",
              "   RatecodeID store_and_fwd_flag  fare_amount  extra  mta_tax  tip_amount  \\\n",
              "0         1.0                  N         42.0   0.50      0.5        8.65   \n",
              "1         1.0                  N         40.0   0.00      0.5        5.00   \n",
              "2         1.0                  N         48.0   1.00      0.5        9.95   \n",
              "3         1.0                  N         68.5   0.50      0.5       13.95   \n",
              "4         2.0                  N         52.0   3.75      0.5       12.60   \n",
              "5         1.0                  N         43.0   1.25      0.5        9.00   \n",
              "6         2.0                  N         52.0   3.75      0.5       12.60   \n",
              "7         1.0                  N         54.0   1.25      0.5       11.20   \n",
              "8         2.0                  N         52.0   2.50      0.5        6.00   \n",
              "9         1.0                  N         49.5   1.75      0.5       13.00   \n",
              "\n",
              "   tolls_amount  improvement_surcharge  total_amount  congestion_surcharge  \\\n",
              "0          0.00                    0.3         51.95                   0.0   \n",
              "1          0.00                    0.3         45.80                   0.0   \n",
              "2          0.00                    0.3         59.75                   0.0   \n",
              "3          0.00                    0.3         83.75                   0.0   \n",
              "4          6.55                    0.3         75.70                   2.5   \n",
              "5          0.00                    0.3         54.05                   0.0   \n",
              "6          6.55                    0.3         75.70                   2.5   \n",
              "7          0.00                    0.3         67.25                   0.0   \n",
              "8          6.55                    0.3         67.85                   2.5   \n",
              "9          0.00                    0.3         65.05                   0.0   \n",
              "\n",
              "   pickup_weekday  pickup_hour  dropoff_weekday  drop_hour  Pickup_Area  \\\n",
              "0               4            0                4          1          6.0   \n",
              "1               3            2                3         15          6.0   \n",
              "2               1            2                1         16          6.0   \n",
              "3               5            3                5         21          6.0   \n",
              "4               2            3                2         23          6.0   \n",
              "5               2            1                2          6          6.0   \n",
              "6               2            2                2         13          6.0   \n",
              "7               3            2                3         14          6.0   \n",
              "8               4            2                4         16          6.0   \n",
              "9               5            3                5         22          6.0   \n",
              "\n",
              "   Dropoff_Area  \n",
              "0           3.0  \n",
              "1           3.0  \n",
              "2           3.0  \n",
              "3           3.0  \n",
              "4           3.0  \n",
              "5           3.0  \n",
              "6           3.0  \n",
              "7           3.0  \n",
              "8           3.0  \n",
              "9           3.0  "
            ],
            "text/html": [
              "\n",
              "  <div id=\"df-99e96b59-8737-467c-9bfc-f3d5b0efd3df\">\n",
              "    <div class=\"colab-df-container\">\n",
              "      <div>\n",
              "<style scoped>\n",
              "    .dataframe tbody tr th:only-of-type {\n",
              "        vertical-align: middle;\n",
              "    }\n",
              "\n",
              "    .dataframe tbody tr th {\n",
              "        vertical-align: top;\n",
              "    }\n",
              "\n",
              "    .dataframe thead th {\n",
              "        text-align: right;\n",
              "    }\n",
              "</style>\n",
              "<table border=\"1\" class=\"dataframe\">\n",
              "  <thead>\n",
              "    <tr style=\"text-align: right;\">\n",
              "      <th></th>\n",
              "      <th>tpep_pickup_datetime</th>\n",
              "      <th>tpep_dropoff_datetime</th>\n",
              "      <th>passenger_count</th>\n",
              "      <th>trip_distance</th>\n",
              "      <th>RatecodeID</th>\n",
              "      <th>store_and_fwd_flag</th>\n",
              "      <th>fare_amount</th>\n",
              "      <th>extra</th>\n",
              "      <th>mta_tax</th>\n",
              "      <th>tip_amount</th>\n",
              "      <th>tolls_amount</th>\n",
              "      <th>improvement_surcharge</th>\n",
              "      <th>total_amount</th>\n",
              "      <th>congestion_surcharge</th>\n",
              "      <th>pickup_weekday</th>\n",
              "      <th>pickup_hour</th>\n",
              "      <th>dropoff_weekday</th>\n",
              "      <th>drop_hour</th>\n",
              "      <th>Pickup_Area</th>\n",
              "      <th>Dropoff_Area</th>\n",
              "    </tr>\n",
              "  </thead>\n",
              "  <tbody>\n",
              "    <tr>\n",
              "      <th>0</th>\n",
              "      <td>2021-01-01 00:43:30</td>\n",
              "      <td>2021-01-01 01:11:06</td>\n",
              "      <td>1.0</td>\n",
              "      <td>14.7</td>\n",
              "      <td>1.0</td>\n",
              "      <td>N</td>\n",
              "      <td>42.0</td>\n",
              "      <td>0.50</td>\n",
              "      <td>0.5</td>\n",
              "      <td>8.65</td>\n",
              "      <td>0.00</td>\n",
              "      <td>0.3</td>\n",
              "      <td>51.95</td>\n",
              "      <td>0.0</td>\n",
              "      <td>4</td>\n",
              "      <td>0</td>\n",
              "      <td>4</td>\n",
              "      <td>1</td>\n",
              "      <td>6.0</td>\n",
              "      <td>3.0</td>\n",
              "    </tr>\n",
              "    <tr>\n",
              "      <th>1</th>\n",
              "      <td>2021-02-04 15:12:48</td>\n",
              "      <td>2021-02-04 15:56:26</td>\n",
              "      <td>1.0</td>\n",
              "      <td>12.5</td>\n",
              "      <td>1.0</td>\n",
              "      <td>N</td>\n",
              "      <td>40.0</td>\n",
              "      <td>0.00</td>\n",
              "      <td>0.5</td>\n",
              "      <td>5.00</td>\n",
              "      <td>0.00</td>\n",
              "      <td>0.3</td>\n",
              "      <td>45.80</td>\n",
              "      <td>0.0</td>\n",
              "      <td>3</td>\n",
              "      <td>2</td>\n",
              "      <td>3</td>\n",
              "      <td>15</td>\n",
              "      <td>6.0</td>\n",
              "      <td>3.0</td>\n",
              "    </tr>\n",
              "    <tr>\n",
              "      <th>2</th>\n",
              "      <td>2021-03-23 15:47:15</td>\n",
              "      <td>2021-03-23 16:47:09</td>\n",
              "      <td>1.0</td>\n",
              "      <td>14.3</td>\n",
              "      <td>1.0</td>\n",
              "      <td>N</td>\n",
              "      <td>48.0</td>\n",
              "      <td>1.00</td>\n",
              "      <td>0.5</td>\n",
              "      <td>9.95</td>\n",
              "      <td>0.00</td>\n",
              "      <td>0.3</td>\n",
              "      <td>59.75</td>\n",
              "      <td>0.0</td>\n",
              "      <td>1</td>\n",
              "      <td>2</td>\n",
              "      <td>1</td>\n",
              "      <td>16</td>\n",
              "      <td>6.0</td>\n",
              "      <td>3.0</td>\n",
              "    </tr>\n",
              "    <tr>\n",
              "      <th>3</th>\n",
              "      <td>2021-03-27 20:29:59</td>\n",
              "      <td>2021-03-27 21:14:14</td>\n",
              "      <td>1.0</td>\n",
              "      <td>25.2</td>\n",
              "      <td>1.0</td>\n",
              "      <td>N</td>\n",
              "      <td>68.5</td>\n",
              "      <td>0.50</td>\n",
              "      <td>0.5</td>\n",
              "      <td>13.95</td>\n",
              "      <td>0.00</td>\n",
              "      <td>0.3</td>\n",
              "      <td>83.75</td>\n",
              "      <td>0.0</td>\n",
              "      <td>5</td>\n",
              "      <td>3</td>\n",
              "      <td>5</td>\n",
              "      <td>21</td>\n",
              "      <td>6.0</td>\n",
              "      <td>3.0</td>\n",
              "    </tr>\n",
              "    <tr>\n",
              "      <th>4</th>\n",
              "      <td>2021-04-14 23:07:30</td>\n",
              "      <td>2021-04-14 23:36:41</td>\n",
              "      <td>1.0</td>\n",
              "      <td>19.2</td>\n",
              "      <td>2.0</td>\n",
              "      <td>N</td>\n",
              "      <td>52.0</td>\n",
              "      <td>3.75</td>\n",
              "      <td>0.5</td>\n",
              "      <td>12.60</td>\n",
              "      <td>6.55</td>\n",
              "      <td>0.3</td>\n",
              "      <td>75.70</td>\n",
              "      <td>2.5</td>\n",
              "      <td>2</td>\n",
              "      <td>3</td>\n",
              "      <td>2</td>\n",
              "      <td>23</td>\n",
              "      <td>6.0</td>\n",
              "      <td>3.0</td>\n",
              "    </tr>\n",
              "    <tr>\n",
              "      <th>5</th>\n",
              "      <td>2021-04-21 06:09:57</td>\n",
              "      <td>2021-04-21 06:46:51</td>\n",
              "      <td>1.0</td>\n",
              "      <td>15.4</td>\n",
              "      <td>1.0</td>\n",
              "      <td>N</td>\n",
              "      <td>43.0</td>\n",
              "      <td>1.25</td>\n",
              "      <td>0.5</td>\n",
              "      <td>9.00</td>\n",
              "      <td>0.00</td>\n",
              "      <td>0.3</td>\n",
              "      <td>54.05</td>\n",
              "      <td>0.0</td>\n",
              "      <td>2</td>\n",
              "      <td>1</td>\n",
              "      <td>2</td>\n",
              "      <td>6</td>\n",
              "      <td>6.0</td>\n",
              "      <td>3.0</td>\n",
              "    </tr>\n",
              "    <tr>\n",
              "      <th>6</th>\n",
              "      <td>2021-04-21 12:35:20</td>\n",
              "      <td>2021-04-21 13:15:57</td>\n",
              "      <td>1.0</td>\n",
              "      <td>19.0</td>\n",
              "      <td>2.0</td>\n",
              "      <td>N</td>\n",
              "      <td>52.0</td>\n",
              "      <td>3.75</td>\n",
              "      <td>0.5</td>\n",
              "      <td>12.60</td>\n",
              "      <td>6.55</td>\n",
              "      <td>0.3</td>\n",
              "      <td>75.70</td>\n",
              "      <td>2.5</td>\n",
              "      <td>2</td>\n",
              "      <td>2</td>\n",
              "      <td>2</td>\n",
              "      <td>13</td>\n",
              "      <td>6.0</td>\n",
              "      <td>3.0</td>\n",
              "    </tr>\n",
              "    <tr>\n",
              "      <th>7</th>\n",
              "      <td>2021-04-29 13:33:17</td>\n",
              "      <td>2021-04-29 14:25:38</td>\n",
              "      <td>2.0</td>\n",
              "      <td>18.4</td>\n",
              "      <td>1.0</td>\n",
              "      <td>N</td>\n",
              "      <td>54.0</td>\n",
              "      <td>1.25</td>\n",
              "      <td>0.5</td>\n",
              "      <td>11.20</td>\n",
              "      <td>0.00</td>\n",
              "      <td>0.3</td>\n",
              "      <td>67.25</td>\n",
              "      <td>0.0</td>\n",
              "      <td>3</td>\n",
              "      <td>2</td>\n",
              "      <td>3</td>\n",
              "      <td>14</td>\n",
              "      <td>6.0</td>\n",
              "      <td>3.0</td>\n",
              "    </tr>\n",
              "    <tr>\n",
              "      <th>8</th>\n",
              "      <td>2021-05-21 15:34:10</td>\n",
              "      <td>2021-05-21 16:21:54</td>\n",
              "      <td>1.0</td>\n",
              "      <td>17.2</td>\n",
              "      <td>2.0</td>\n",
              "      <td>N</td>\n",
              "      <td>52.0</td>\n",
              "      <td>2.50</td>\n",
              "      <td>0.5</td>\n",
              "      <td>6.00</td>\n",
              "      <td>6.55</td>\n",
              "      <td>0.3</td>\n",
              "      <td>67.85</td>\n",
              "      <td>2.5</td>\n",
              "      <td>4</td>\n",
              "      <td>2</td>\n",
              "      <td>4</td>\n",
              "      <td>16</td>\n",
              "      <td>6.0</td>\n",
              "      <td>3.0</td>\n",
              "    </tr>\n",
              "    <tr>\n",
              "      <th>9</th>\n",
              "      <td>2021-05-22 21:41:51</td>\n",
              "      <td>2021-05-22 22:20:47</td>\n",
              "      <td>1.0</td>\n",
              "      <td>17.5</td>\n",
              "      <td>1.0</td>\n",
              "      <td>N</td>\n",
              "      <td>49.5</td>\n",
              "      <td>1.75</td>\n",
              "      <td>0.5</td>\n",
              "      <td>13.00</td>\n",
              "      <td>0.00</td>\n",
              "      <td>0.3</td>\n",
              "      <td>65.05</td>\n",
              "      <td>0.0</td>\n",
              "      <td>5</td>\n",
              "      <td>3</td>\n",
              "      <td>5</td>\n",
              "      <td>22</td>\n",
              "      <td>6.0</td>\n",
              "      <td>3.0</td>\n",
              "    </tr>\n",
              "  </tbody>\n",
              "</table>\n",
              "</div>\n",
              "      <button class=\"colab-df-convert\" onclick=\"convertToInteractive('df-99e96b59-8737-467c-9bfc-f3d5b0efd3df')\"\n",
              "              title=\"Convert this dataframe to an interactive table.\"\n",
              "              style=\"display:none;\">\n",
              "        \n",
              "  <svg xmlns=\"http://www.w3.org/2000/svg\" height=\"24px\"viewBox=\"0 0 24 24\"\n",
              "       width=\"24px\">\n",
              "    <path d=\"M0 0h24v24H0V0z\" fill=\"none\"/>\n",
              "    <path d=\"M18.56 5.44l.94 2.06.94-2.06 2.06-.94-2.06-.94-.94-2.06-.94 2.06-2.06.94zm-11 1L8.5 8.5l.94-2.06 2.06-.94-2.06-.94L8.5 2.5l-.94 2.06-2.06.94zm10 10l.94 2.06.94-2.06 2.06-.94-2.06-.94-.94-2.06-.94 2.06-2.06.94z\"/><path d=\"M17.41 7.96l-1.37-1.37c-.4-.4-.92-.59-1.43-.59-.52 0-1.04.2-1.43.59L10.3 9.45l-7.72 7.72c-.78.78-.78 2.05 0 2.83L4 21.41c.39.39.9.59 1.41.59.51 0 1.02-.2 1.41-.59l7.78-7.78 2.81-2.81c.8-.78.8-2.07 0-2.86zM5.41 20L4 18.59l7.72-7.72 1.47 1.35L5.41 20z\"/>\n",
              "  </svg>\n",
              "      </button>\n",
              "      \n",
              "  <style>\n",
              "    .colab-df-container {\n",
              "      display:flex;\n",
              "      flex-wrap:wrap;\n",
              "      gap: 12px;\n",
              "    }\n",
              "\n",
              "    .colab-df-convert {\n",
              "      background-color: #E8F0FE;\n",
              "      border: none;\n",
              "      border-radius: 50%;\n",
              "      cursor: pointer;\n",
              "      display: none;\n",
              "      fill: #1967D2;\n",
              "      height: 32px;\n",
              "      padding: 0 0 0 0;\n",
              "      width: 32px;\n",
              "    }\n",
              "\n",
              "    .colab-df-convert:hover {\n",
              "      background-color: #E2EBFA;\n",
              "      box-shadow: 0px 1px 2px rgba(60, 64, 67, 0.3), 0px 1px 3px 1px rgba(60, 64, 67, 0.15);\n",
              "      fill: #174EA6;\n",
              "    }\n",
              "\n",
              "    [theme=dark] .colab-df-convert {\n",
              "      background-color: #3B4455;\n",
              "      fill: #D2E3FC;\n",
              "    }\n",
              "\n",
              "    [theme=dark] .colab-df-convert:hover {\n",
              "      background-color: #434B5C;\n",
              "      box-shadow: 0px 1px 3px 1px rgba(0, 0, 0, 0.15);\n",
              "      filter: drop-shadow(0px 1px 2px rgba(0, 0, 0, 0.3));\n",
              "      fill: #FFFFFF;\n",
              "    }\n",
              "  </style>\n",
              "\n",
              "      <script>\n",
              "        const buttonEl =\n",
              "          document.querySelector('#df-99e96b59-8737-467c-9bfc-f3d5b0efd3df button.colab-df-convert');\n",
              "        buttonEl.style.display =\n",
              "          google.colab.kernel.accessAllowed ? 'block' : 'none';\n",
              "\n",
              "        async function convertToInteractive(key) {\n",
              "          const element = document.querySelector('#df-99e96b59-8737-467c-9bfc-f3d5b0efd3df');\n",
              "          const dataTable =\n",
              "            await google.colab.kernel.invokeFunction('convertToInteractive',\n",
              "                                                     [key], {});\n",
              "          if (!dataTable) return;\n",
              "\n",
              "          const docLinkHtml = 'Like what you see? Visit the ' +\n",
              "            '<a target=\"_blank\" href=https://colab.research.google.com/notebooks/data_table.ipynb>data table notebook</a>'\n",
              "            + ' to learn more about interactive tables.';\n",
              "          element.innerHTML = '';\n",
              "          dataTable['output_type'] = 'display_data';\n",
              "          await google.colab.output.renderOutput(dataTable, element);\n",
              "          const docLink = document.createElement('div');\n",
              "          docLink.innerHTML = docLinkHtml;\n",
              "          element.appendChild(docLink);\n",
              "        }\n",
              "      </script>\n",
              "    </div>\n",
              "  </div>\n",
              "  "
            ]
          },
          "metadata": {},
          "execution_count": 38
        }
      ]
    },
    {
      "cell_type": "code",
      "source": [
        "# master_df['tip_fraction'] =  master_df.tip_amount/master_df.fare_amount"
      ],
      "metadata": {
        "id": "157wFvCIRX_n"
      },
      "execution_count": 39,
      "outputs": []
    },
    {
      "cell_type": "code",
      "source": [
        "master_df['z_score'] = (master_df['tip_amount'] - master_df['tip_amount'].mean()) / master_df['tip_amount'].std(ddof=0)"
      ],
      "metadata": {
        "id": "MV88N8RENZGG"
      },
      "execution_count": 40,
      "outputs": []
    },
    {
      "cell_type": "code",
      "source": [
        "#remove outliers beyond the third standard deviation point\n",
        "master_df = master_df[(np.abs(stats.zscore(master_df['z_score'])) < 3)]"
      ],
      "metadata": {
        "id": "odldJukDNduK"
      },
      "execution_count": 41,
      "outputs": []
    },
    {
      "cell_type": "code",
      "source": [
        "master_df['tip_amount'].describe()"
      ],
      "metadata": {
        "colab": {
          "base_uri": "https://localhost:8080/"
        },
        "id": "3y-8555hNhof",
        "outputId": "094e3f3c-458d-49d1-f36e-ea8f6d60c1a8"
      },
      "execution_count": 42,
      "outputs": [
        {
          "output_type": "execute_result",
          "data": {
            "text/plain": [
              "count    6.787387e+06\n",
              "mean     2.730372e+00\n",
              "std      1.835045e+00\n",
              "min      0.000000e+00\n",
              "25%      1.750000e+00\n",
              "50%      2.350000e+00\n",
              "75%      3.300000e+00\n",
              "max      1.143000e+01\n",
              "Name: tip_amount, dtype: float64"
            ]
          },
          "metadata": {},
          "execution_count": 42
        }
      ]
    },
    {
      "cell_type": "code",
      "source": [
        "plt.figure(figsize=(17,8))\n",
        "sns.heatmap(master_df.corr('spearman'), annot = True)"
      ],
      "metadata": {
        "colab": {
          "base_uri": "https://localhost:8080/",
          "height": 615
        },
        "id": "L8cX0v0QSMdh",
        "outputId": "20d61ae5-d781-409b-adec-72edad19825b"
      },
      "execution_count": 43,
      "outputs": [
        {
          "output_type": "execute_result",
          "data": {
            "text/plain": [
              "<matplotlib.axes._subplots.AxesSubplot at 0x7f30ad3207c0>"
            ]
          },
          "metadata": {},
          "execution_count": 43
        },
        {
          "output_type": "display_data",
          "data": {
            "text/plain": [
              "<Figure size 1224x576 with 2 Axes>"
            ],
            "image/png": "[encoded data removed]"
          },
          "metadata": {
            "needs_background": "light"
          }
        }
      ]
    },
    {
      "cell_type": "code",
      "source": [
        "master_df['tip_amount'].describe()"
      ],
      "metadata": {
        "colab": {
          "base_uri": "https://localhost:8080/"
        },
        "id": "J3aVMmNfypMQ",
        "outputId": "98197656-9001-4292-bed2-196112a1a855"
      },
      "execution_count": 44,
      "outputs": [
        {
          "output_type": "execute_result",
          "data": {
            "text/plain": [
              "count    6.787387e+06\n",
              "mean     2.730372e+00\n",
              "std      1.835045e+00\n",
              "min      0.000000e+00\n",
              "25%      1.750000e+00\n",
              "50%      2.350000e+00\n",
              "75%      3.300000e+00\n",
              "max      1.143000e+01\n",
              "Name: tip_amount, dtype: float64"
            ]
          },
          "metadata": {},
          "execution_count": 44
        }
      ]
    },
    {
      "cell_type": "code",
      "source": [
        "X_train_base, X_test_base, y_train_base, y_test_base = train_test_split(\n",
        "        master_df[['trip_distance', 'RatecodeID','total_amount','tolls_amount','extra','pickup_hour','pickup_weekday','Pickup_Area','Dropoff_Area']], \n",
        "        master_df['tip_amount'], \n",
        "        test_size=0.3,\n",
        "        train_size=0.7,        \n",
        "        random_state=42\n",
        "    )"
      ],
      "metadata": {
        "id": "cPxL3UXFm_u3"
      },
      "execution_count": 45,
      "outputs": []
    },
    {
      "cell_type": "markdown",
      "source": [
        "# Linear Regression"
      ],
      "metadata": {
        "id": "KUa6KThxw40B"
      }
    },
    {
      "cell_type": "code",
      "source": [
        "model = LinearRegression()\n",
        "model.fit(X_train_base, y_train_base)\n",
        "preds = model.predict(X_test_base)"
      ],
      "metadata": {
        "id": "rNgeHE53tsph"
      },
      "execution_count": null,
      "outputs": []
    },
    {
      "cell_type": "code",
      "source": [
        "print(\"R-squared value: \", r2_score(y_test_base,preds))\n",
        "print(\"RMSE of Linear Regression: \", (mean_squared_error(y_test_base,preds))**(1/2) )"
      ],
      "metadata": {
        "colab": {
          "base_uri": "https://localhost:8080/"
        },
        "id": "qAF8TTDXuZGU",
        "outputId": "f547133e-a608-48c6-bbc1-b336c4549707"
      },
      "execution_count": null,
      "outputs": [
        {
          "output_type": "stream",
          "name": "stdout",
          "text": [
            "R-squared value:  0.5144612215048884\n",
            "RMSE of Linear Regression:  1.2793281077869054\n"
          ]
        }
      ]
    },
    {
      "cell_type": "markdown",
      "source": [
        "# Decision Tree Regressor"
      ],
      "metadata": {
        "id": "eQ3516nn1MAi"
      }
    },
    {
      "cell_type": "code",
      "source": [
        "from sklearn.tree import DecisionTreeRegressor\n",
        "from sklearn.ensemble import RandomForestRegressor\n",
        "from sklearn.metrics import mean_squared_error"
      ],
      "metadata": {
        "id": "VKeSTJkIz5p0"
      },
      "execution_count": 48,
      "outputs": []
    },
    {
      "cell_type": "code",
      "source": [
        "depths = [1,5,10,15,20,35,50]\n",
        "tree_MSE = []\n",
        "for i in depths:\n",
        "  tree_model = DecisionTreeRegressor(max_depth = i)\n",
        "  tree_model.fit(X_train_base, y_train_base)\n",
        "  tree_test_mse = (mean_squared_error(y_test_base, tree_model.predict(X_test_base)))**(1/2)\n",
        "  tree_MSE.append(tree_test_mse)\n",
        "print(tree_MSE)"
      ],
      "metadata": {
        "id": "I4NyizGQ0M4X",
        "colab": {
          "base_uri": "https://localhost:8080/"
        },
        "outputId": "f459d68c-1ec8-4fee-a301-bfe238d79fd0"
      },
      "execution_count": null,
      "outputs": [
        {
          "output_type": "stream",
          "name": "stdout",
          "text": [
            "[1.474839367604275, 1.1152116278503437, 0.8833815023683835, 0.7412141250474886, 0.7384451360596642, 0.8145515834662722, 0.8165881162660311]\n"
          ]
        }
      ]
    },
    {
      "cell_type": "code",
      "source": [
        "tree_model = DecisionTreeRegressor(max_depth = 20)\n",
        "tree_model.fit(X_train_base, y_train_base)"
      ],
      "metadata": {
        "colab": {
          "base_uri": "https://localhost:8080/"
        },
        "id": "N5WHGaUjvN3F",
        "outputId": "6b3c7e4e-4d39-45f0-a4ae-4e44a919c0e4"
      },
      "execution_count": null,
      "outputs": [
        {
          "output_type": "execute_result",
          "data": {
            "text/plain": [
              "DecisionTreeRegressor(max_depth=20)"
            ]
          },
          "metadata": {},
          "execution_count": 55
        }
      ]
    },
    {
      "cell_type": "code",
      "source": [
        "tree_test_mse = (mean_squared_error(y_test_base, tree_model.predict(X_test_base)))**(1/2)\n",
        "print(\"RMSE of Decision Tree Regressor: \",tree_test_mse)"
      ],
      "metadata": {
        "colab": {
          "base_uri": "https://localhost:8080/"
        },
        "id": "pbNZnYTlaSmm",
        "outputId": "fc138fd6-be8f-464b-d322-3702572f9809"
      },
      "execution_count": null,
      "outputs": [
        {
          "output_type": "stream",
          "name": "stdout",
          "text": [
            "RMSE of Decision Tree Regressor:  0.738223552095929\n"
          ]
        }
      ]
    },
    {
      "cell_type": "markdown",
      "source": [
        "# Random Forest Regressor"
      ],
      "metadata": {
        "id": "tSgrcAWLsO3_"
      }
    },
    {
      "cell_type": "code",
      "source": [
        "random_grid = {'max_depth': [5,10,15,20,25, None],\n",
        " 'max_features': ['auto', 'sqrt'],\n",
        " 'min_samples_leaf': [1, 2, 4],\n",
        " 'min_samples_split': [2, 5, 10],\n",
        " 'n_estimators': [20,60,100,150,200]}"
      ],
      "metadata": {
        "id": "JUhiD4Rb0uA_"
      },
      "execution_count": 46,
      "outputs": []
    },
    {
      "cell_type": "code",
      "source": [
        "from sklearn.model_selection import RandomizedSearchCV\n",
        "rf = RandomForestRegressor()\n",
        "rf_random = RandomizedSearchCV(estimator = rf, param_distributions = random_grid, cv =2, n_iter = 50, verbose=2, random_state=42, n_jobs = -1)"
      ],
      "metadata": {
        "id": "RAUdkVl2zg8t"
      },
      "execution_count": 51,
      "outputs": []
    },
    {
      "cell_type": "code",
      "source": [
        "rf_random.fit(X_train_base, y_train_base)"
      ],
      "metadata": {
        "id": "QM_MwN5b19so",
        "colab": {
          "base_uri": "https://localhost:8080/"
        },
        "outputId": "c45a3cdf-040f-4904-fce6-648e4c7eff7d"
      },
      "execution_count": null,
      "outputs": [
        {
          "output_type": "stream",
          "name": "stdout",
          "text": [
            "Fitting 2 folds for each of 50 candidates, totalling 100 fits\n"
          ]
        },
        {
          "output_type": "stream",
          "name": "stderr",
          "text": [
            "/usr/local/lib/python3.8/dist-packages/joblib/externals/loky/process_executor.py:700: UserWarning: A worker stopped while some jobs were given to the executor. This can be caused by a too short worker timeout or by a memory leak.\n",
            "  warnings.warn(\n"
          ]
        }
      ]
    },
    {
      "cell_type": "code",
      "source": [
        "rf_random.best_params_"
      ],
      "metadata": {
        "id": "S1xKdIK1TMWx"
      },
      "execution_count": null,
      "outputs": []
    },
    {
      "cell_type": "code",
      "source": [
        "rf_random.best_score_"
      ],
      "metadata": {
        "id": "x2arWu-Wm5-u"
      },
      "execution_count": null,
      "outputs": []
    },
    {
      "cell_type": "code",
      "source": [
        "rf_model = RandomForestRegressor(n_estimators= 150, min_samples_split= 10, min_samples_leaf= 4, max_features= 'sqrt', max_depth= 15, n_jobs = -1)\n",
        "rf_model.fit(X_train_base, y_train_base)"
      ],
      "metadata": {
        "colab": {
          "base_uri": "https://localhost:8080/"
        },
        "id": "Fv2l3ECrniwW",
        "outputId": "357ca6c6-e3a9-4772-eae7-4865eeb955eb"
      },
      "execution_count": null,
      "outputs": [
        {
          "output_type": "stream",
          "name": "stdout",
          "text": [
            "[2.83571635e-01 1.46613843e-02 5.61553034e-01 3.77139612e-02\n",
            " 5.36908500e-02 2.70374975e-03 2.07782189e-03 4.36863882e-02\n",
            " 3.41175162e-04]\n",
            "0.8248159744198297\n"
          ]
        }
      ]
    },
    {
      "cell_type": "code",
      "source": [
        "rf_test_mse = (mean_squared_error(y_test_base, rf_model.predict(X_test_base)))**(1/2)\n",
        "print(\"Feature Importance:\")\n",
        "print(rf_model.feature_importances_)\n",
        "print(\"RMSE of Random Forest Regressor: \",rf_test_mse)"
      ],
      "metadata": {
        "id": "lHT-ecLqxNbL"
      },
      "execution_count": null,
      "outputs": []
    },
    {
      "cell_type": "markdown",
      "source": [
        "# K Neighbours Regressor"
      ],
      "metadata": {
        "id": "V7zcNRVsk-ut"
      }
    },
    {
      "cell_type": "markdown",
      "source": [
        "**SCALING OF DATA**"
      ],
      "metadata": {
        "id": "Q5_8UN5sCGWR"
      }
    },
    {
      "cell_type": "code",
      "source": [
        "from sklearn.preprocessing import StandardScaler\n",
        "sc_X = StandardScaler()\n",
        "sc_y = StandardScaler()\n",
        "X_train = sc_X.fit_transform(X_train_base)\n",
        "X_test=sc_X.fit_transform(X_test_base)"
      ],
      "metadata": {
        "id": "ZZ_nkppBCB8i"
      },
      "execution_count": null,
      "outputs": []
    },
    {
      "cell_type": "code",
      "source": [
        "from sklearn.neighbors import KNeighborsRegressor"
      ],
      "metadata": {
        "id": "G6MlkZIhdwXk"
      },
      "execution_count": null,
      "outputs": []
    },
    {
      "cell_type": "code",
      "source": [
        "model = KNeighborsRegressor()"
      ],
      "metadata": {
        "id": "GZKhZsk5d1fV"
      },
      "execution_count": null,
      "outputs": []
    },
    {
      "cell_type": "code",
      "source": [
        "model.fit(X_train, y_train_base)"
      ],
      "metadata": {
        "colab": {
          "base_uri": "https://localhost:8080/"
        },
        "id": "U3xESo-Nd2NL",
        "outputId": "6b86880d-becd-4b47-9565-d780233ed909"
      },
      "execution_count": null,
      "outputs": [
        {
          "output_type": "execute_result",
          "data": {
            "text/plain": [
              "KNeighborsRegressor()"
            ]
          },
          "metadata": {},
          "execution_count": 50
        }
      ]
    },
    {
      "cell_type": "code",
      "source": [
        "rmse = (mean_squared_error(y_test_base, model.predict(X_test)))**(1/2)\n",
        "print(\"RMSE of K Neighbours Regressor: \",rmse)"
      ],
      "metadata": {
        "id": "7hHVEBKXeLZK"
      },
      "execution_count": null,
      "outputs": []
    },
    {
      "cell_type": "markdown",
      "source": [
        "# XGBoost"
      ],
      "metadata": {
        "id": "bk9XwS3zDfdc"
      }
    },
    {
      "cell_type": "code",
      "source": [
        "from xgboost import XGBRegressor\n",
        "from sklearn.model_selection import cross_val_score\n",
        "from sklearn.model_selection import RepeatedKFold"
      ],
      "metadata": {
        "id": "N3WHWPW4lH9h"
      },
      "execution_count": null,
      "outputs": []
    },
    {
      "cell_type": "code",
      "source": [
        "XGmodel = XGBRegressor()"
      ],
      "metadata": {
        "id": "llV5G4nKEAGi"
      },
      "execution_count": null,
      "outputs": []
    },
    {
      "cell_type": "code",
      "source": [
        "XGmodel.fit(X_train_base, y_train_base)\n",
        "XG_test_mse = (mean_squared_error(y_test_base, XGmodel.predict(X_test_base)))**(1/2)\n",
        "print(XG_test_mse)"
      ],
      "metadata": {
        "colab": {
          "base_uri": "https://localhost:8080/"
        },
        "id": "PTfs48MCHjOt",
        "outputId": "e623630e-e9aa-47a8-dc56-0c86ee38ca06"
      },
      "execution_count": null,
      "outputs": [
        {
          "output_type": "stream",
          "name": "stdout",
          "text": [
            "[16:40:30] WARNING: /workspace/src/objective/regression_obj.cu:152: reg:linear is now deprecated in favor of reg:squarederror.\n",
            "[16:40:31] WARNING: /workspace/src/learner.cc:686: Tree method is automatically selected to be 'approx' for faster speed. To use old behavior (exact greedy algorithm on single machine), set tree_method to 'exact'.\n",
            "1.0416610510310964\n"
          ]
        }
      ]
    },
    {
      "cell_type": "code",
      "source": [
        "random_grid_XG = {'max_depth': [2,5,8, None],\n",
        " 'learning_rate': [0.5, 0.3, 0.1, 0.01],\n",
        " 'subsample': [0.25,0.5,0.75],\n",
        " 'n_estimators': [20,60,100,150,200]}"
      ],
      "metadata": {
        "id": "M_SBm0MgOPDU"
      },
      "execution_count": null,
      "outputs": []
    },
    {
      "cell_type": "code",
      "source": [
        "XG_random = RandomizedSearchCV(estimator = XGmodel, param_distributions = random_grid_XG, n_iter = 50, cv = 3, verbose=2, random_state=42, n_jobs = -1)"
      ],
      "metadata": {
        "id": "Swd370mjS4XA"
      },
      "execution_count": null,
      "outputs": []
    },
    {
      "cell_type": "code",
      "source": [
        "XG_random.fit(X_train_base, y_train_base)"
      ],
      "metadata": {
        "colab": {
          "base_uri": "https://localhost:8080/"
        },
        "id": "5INzAP7lmrGQ",
        "outputId": "9c5919ba-a54c-4f19-ba88-f01e0bfda012"
      },
      "execution_count": null,
      "outputs": [
        {
          "output_type": "stream",
          "name": "stdout",
          "text": [
            "Fitting 3 folds for each of 50 candidates, totalling 150 fits\n"
          ]
        },
        {
          "output_type": "stream",
          "name": "stderr",
          "text": [
            "/usr/local/lib/python3.8/dist-packages/sklearn/model_selection/_validation.py:372: FitFailedWarning: \n",
            "51 fits failed out of a total of 150.\n",
            "The score on these train-test partitions for these parameters will be set to nan.\n",
            "If these failures are not expected, you can try to debug them by setting error_score='raise'.\n",
            "\n",
            "Below are more details about the failures:\n",
            "--------------------------------------------------------------------------------\n",
            "51 fits failed with the following error:\n",
            "Traceback (most recent call last):\n",
            "  File \"/usr/local/lib/python3.8/dist-packages/sklearn/model_selection/_validation.py\", line 680, in _fit_and_score\n",
            "    estimator.fit(X_train, y_train, **fit_params)\n",
            "  File \"/usr/local/lib/python3.8/dist-packages/xgboost/sklearn.py\", line 391, in fit\n",
            "    self._Booster = train(params, trainDmatrix,\n",
            "  File \"/usr/local/lib/python3.8/dist-packages/xgboost/training.py\", line 212, in train\n",
            "    return _train_internal(params, dtrain,\n",
            "  File \"/usr/local/lib/python3.8/dist-packages/xgboost/training.py\", line 74, in _train_internal\n",
            "    bst.update(dtrain, i, obj)\n",
            "  File \"/usr/local/lib/python3.8/dist-packages/xgboost/core.py\", line 1108, in update\n",
            "    _check_call(_LIB.XGBoosterUpdateOneIter(self.handle, ctypes.c_int(iteration),\n",
            "  File \"/usr/local/lib/python3.8/dist-packages/xgboost/core.py\", line 176, in _check_call\n",
            "    raise XGBoostError(py_str(_LIB.XGBGetLastError()))\n",
            "xgboost.core.XGBoostError: Invalid Parameter format for max_depth expect int but value='None'\n",
            "\n",
            "  warnings.warn(some_fits_failed_message, FitFailedWarning)\n",
            "/usr/local/lib/python3.8/dist-packages/sklearn/model_selection/_search.py:969: UserWarning: One or more of the test scores are non-finite: [ 0.81177156  0.73935464  0.82714756         nan  0.85637878         nan\n",
            "         nan  0.82328551  0.75421555  0.77687919         nan  0.56996596\n",
            "         nan         nan         nan         nan -0.07710124  0.76963683\n",
            "  0.7430221   0.63360632  0.65861643  0.80927336         nan  0.81168369\n",
            "         nan  0.74253927  0.75364485  0.37475741         nan  0.81400954\n",
            "  0.83300113         nan  0.82740642 -0.82357446  0.80026769  0.73555022\n",
            "  0.53838668         nan  0.79750812         nan         nan         nan\n",
            "  0.65374785  0.77188702  0.82508632  0.71649139         nan  0.85019639\n",
            "  0.75714444  0.63690068]\n",
            "  warnings.warn(\n"
          ]
        },
        {
          "output_type": "stream",
          "name": "stdout",
          "text": [
            "[19:39:07] WARNING: /workspace/src/objective/regression_obj.cu:152: reg:linear is now deprecated in favor of reg:squarederror.\n",
            "[19:39:07] WARNING: /workspace/src/learner.cc:686: Tree method is automatically selected to be 'approx' for faster speed. To use old behavior (exact greedy algorithm on single machine), set tree_method to 'exact'.\n"
          ]
        },
        {
          "output_type": "execute_result",
          "data": {
            "text/plain": [
              "RandomizedSearchCV(cv=3, estimator=XGBRegressor(), n_iter=50, n_jobs=-1,\n",
              "                   param_distributions={'learning_rate': [0.5, 0.3, 0.1, 0.01],\n",
              "                                        'max_depth': [2, 5, 8, None],\n",
              "                                        'n_estimators': [20, 60, 100, 150, 200],\n",
              "                                        'subsample': [0.25, 0.5, 0.75]},\n",
              "                   random_state=42, verbose=2)"
            ]
          },
          "metadata": {},
          "execution_count": 80
        }
      ]
    },
    {
      "cell_type": "code",
      "source": [
        "XG_random.best_params_"
      ],
      "metadata": {
        "colab": {
          "base_uri": "https://localhost:8080/"
        },
        "id": "vFYjK9oBTipI",
        "outputId": "44cbb1e3-8eb0-4111-f804-ce057f816363"
      },
      "execution_count": null,
      "outputs": [
        {
          "output_type": "execute_result",
          "data": {
            "text/plain": [
              "{'subsample': 0.75, 'n_estimators': 200, 'max_depth': 8, 'learning_rate': 0.3}"
            ]
          },
          "metadata": {},
          "execution_count": 81
        }
      ]
    },
    {
      "cell_type": "code",
      "source": [
        "XG_random.best_score_"
      ],
      "metadata": {
        "colab": {
          "base_uri": "https://localhost:8080/"
        },
        "id": "RI2tUk8c5kNK",
        "outputId": "73ee7a69-6236-4c9c-9e69-e6876c5506a1"
      },
      "execution_count": null,
      "outputs": [
        {
          "output_type": "execute_result",
          "data": {
            "text/plain": [
              "0.8563787824192771"
            ]
          },
          "metadata": {},
          "execution_count": 82
        }
      ]
    },
    {
      "cell_type": "code",
      "source": [
        "XGmodel_final = XGBRegressor(subsample=  0.75, n_estimators= 200, max_depth =  8, learning_rate = 0.3)\n",
        "XGmodel_final.fit(X_train_base, y_train_base)"
      ],
      "metadata": {
        "colab": {
          "base_uri": "https://localhost:8080/"
        },
        "id": "9CkG4g2Q4614",
        "outputId": "0b6cac05-63c5-4981-add9-6745a1a1383b"
      },
      "execution_count": null,
      "outputs": [
        {
          "output_type": "stream",
          "name": "stdout",
          "text": [
            "[20:47:26] WARNING: /workspace/src/objective/regression_obj.cu:152: reg:linear is now deprecated in favor of reg:squarederror.\n",
            "[20:47:26] WARNING: /workspace/src/learner.cc:686: Tree method is automatically selected to be 'approx' for faster speed. To use old behavior (exact greedy algorithm on single machine), set tree_method to 'exact'.\n"
          ]
        },
        {
          "output_type": "execute_result",
          "data": {
            "text/plain": [
              "XGBRegressor(learning_rate=0.3, max_depth=8, n_estimators=200, subsample=0.75)"
            ]
          },
          "metadata": {},
          "execution_count": 85
        }
      ]
    },
    {
      "cell_type": "code",
      "source": [
        "XG_test_mse = (mean_squared_error(y_test_base, XGmodel_final.predict(X_test_base)))**(1/2)\n",
        "print(\"RMSE of XGBoost Regressor: \",XG_test_mse)"
      ],
      "metadata": {
        "id": "Pl5AHNczxt87",
        "colab": {
          "base_uri": "https://localhost:8080/"
        },
        "outputId": "d58427ba-06f2-436d-ce8d-156bee35cfa6"
      },
      "execution_count": null,
      "outputs": [
        {
          "output_type": "stream",
          "name": "stdout",
          "text": [
            "RMSE of XGBoost Regressor:  0.9415014978934526\n"
          ]
        }
      ]
    },
    {
      "cell_type": "markdown",
      "source": [
        "# Neural Nets"
      ],
      "metadata": {
        "id": "nCGAWb5WuAuj"
      }
    },
    {
      "cell_type": "code",
      "source": [
        "from tensorflow.keras.models import Sequential\n",
        "from tensorflow.keras.layers import Dense\n",
        "from keras.wrappers.scikit_learn import KerasRegressor\n",
        "from sklearn.model_selection import cross_val_score\n",
        "from sklearn.model_selection import KFold\n",
        "from sklearn.pipeline import Pipeline"
      ],
      "metadata": {
        "id": "9gYdZ8EUuCmf"
      },
      "execution_count": null,
      "outputs": []
    },
    {
      "cell_type": "code",
      "source": [
        "def baseline_model():\n",
        " # create model\n",
        " model = Sequential()\n",
        " model.add(Dense(9, input_shape=(9,), kernel_initializer='normal', activation='relu'))\n",
        " model.add(Dense(1, kernel_initializer='normal'))\n",
        " # Compile model\n",
        " model.compile(loss='mean_squared_error', optimizer='adam')\n",
        " return model"
      ],
      "metadata": {
        "id": "aFqdSk1yGCm0"
      },
      "execution_count": null,
      "outputs": []
    },
    {
      "cell_type": "code",
      "source": [
        "from sklearn.pipeline import Pipeline\n",
        "estimators = []\n",
        "estimators.append(('standardize', StandardScaler()))\n",
        "estimators.append(('mlp', KerasRegressor(baseline_model, epochs=100, batch_size= 80000 , verbose=0)))\n",
        "pipeline = Pipeline(estimators)\n",
        "kfold = KFold(n_splits=10)\n",
        "results = cross_val_score(pipeline, X_train_base, y_train_base, cv=kfold, scoring='neg_root_mean_squared_error')"
      ],
      "metadata": {
        "id": "GqwLbkTFZANe",
        "colab": {
          "base_uri": "https://localhost:8080/"
        },
        "outputId": "c1b565d2-5269-4eda-bc16-5fbcc25008db"
      },
      "execution_count": null,
      "outputs": [
        {
          "output_type": "stream",
          "name": "stderr",
          "text": [
            "<ipython-input-62-945f6175ccd8>:4: DeprecationWarning: KerasRegressor is deprecated, use Sci-Keras (https://github.com/adriangb/scikeras) instead. See https://www.adriangb.com/scikeras/stable/migration.html for help migrating.\n",
            "  estimators.append(('mlp', KerasRegressor(baseline_model, epochs=100, batch_size= 80000 , verbose=0)))\n"
          ]
        }
      ]
    },
    {
      "cell_type": "code",
      "source": [
        "print(results)\n",
        "print(results.mean()) #ignore the negative sign as we have considered the negative root mean squared error for scoring purposes."
      ],
      "metadata": {
        "id": "27gth7EEN71Y",
        "colab": {
          "base_uri": "https://localhost:8080/"
        },
        "outputId": "a1f039cc-c368-4655-8481-8017e73eb0c8"
      },
      "execution_count": null,
      "outputs": [
        {
          "output_type": "stream",
          "name": "stdout",
          "text": [
            "[-1.02510815 -1.11426577 -0.96657277 -1.21359471 -0.97257785 -1.04775248\n",
            " -1.07212048 -0.99642483 -1.21611476 -1.06157561]\n",
            "-1.0686107388876591\n"
          ]
        }
      ]
    },
    {
      "cell_type": "code",
      "source": [
        "def larger_model():\n",
        " # create model\n",
        " model = Sequential()\n",
        " model.add(Dense(20, input_shape=(9,), kernel_initializer='normal', activation='relu'))\n",
        " model.add(Dense(15, kernel_initializer='normal', activation='relu'))\n",
        " model.add(Dense(9, kernel_initializer='normal', activation='relu'))\n",
        " model.add(Dense(6, kernel_initializer='normal', activation='relu'))\n",
        " model.add(Dense(1, kernel_initializer='normal'))\n",
        " # Compile model\n",
        " model.compile(loss='mean_squared_error', optimizer='adam')\n",
        " print(model.summary())\n",
        " return model\n"
      ],
      "metadata": {
        "id": "BErDQoCuaBhx"
      },
      "execution_count": null,
      "outputs": []
    },
    {
      "cell_type": "code",
      "source": [
        "from sklearn.pipeline import Pipeline\n",
        "estimators = []\n",
        "estimators.append(('standardize', StandardScaler()))\n",
        "estimators.append(('mlp', KerasRegressor(larger_model, epochs=100, batch_size= 80000 , verbose=0)))\n",
        "pipeline = Pipeline(estimators)\n",
        "kfold = KFold(n_splits=10)\n",
        "results = cross_val_score(pipeline, X_train_base, y_train_base, cv=kfold, scoring='neg_root_mean_squared_error')"
      ],
      "metadata": {
        "id": "h7b9lfoQaDEi",
        "colab": {
          "base_uri": "https://localhost:8080/"
        },
        "outputId": "6afd7144-d064-4ab9-ea08-02c020eb72a7"
      },
      "execution_count": null,
      "outputs": [
        {
          "output_type": "stream",
          "name": "stderr",
          "text": [
            "<ipython-input-65-cd3936fe2249>:4: DeprecationWarning: KerasRegressor is deprecated, use Sci-Keras (https://github.com/adriangb/scikeras) instead. See https://www.adriangb.com/scikeras/stable/migration.html for help migrating.\n",
            "  estimators.append(('mlp', KerasRegressor(larger_model, epochs=100, batch_size= 80000 , verbose=0)))\n"
          ]
        },
        {
          "output_type": "stream",
          "name": "stdout",
          "text": [
            "Model: \"sequential_10\"\n",
            "_________________________________________________________________\n",
            " Layer (type)                Output Shape              Param #   \n",
            "=================================================================\n",
            " dense_20 (Dense)            (None, 20)                200       \n",
            "                                                                 \n",
            " dense_21 (Dense)            (None, 15)                315       \n",
            "                                                                 \n",
            " dense_22 (Dense)            (None, 9)                 144       \n",
            "                                                                 \n",
            " dense_23 (Dense)            (None, 6)                 60        \n",
            "                                                                 \n",
            " dense_24 (Dense)            (None, 1)                 7         \n",
            "                                                                 \n",
            "=================================================================\n",
            "Total params: 726\n",
            "Trainable params: 726\n",
            "Non-trainable params: 0\n",
            "_________________________________________________________________\n",
            "None\n",
            "Model: \"sequential_11\"\n",
            "_________________________________________________________________\n",
            " Layer (type)                Output Shape              Param #   \n",
            "=================================================================\n",
            " dense_25 (Dense)            (None, 20)                200       \n",
            "                                                                 \n",
            " dense_26 (Dense)            (None, 15)                315       \n",
            "                                                                 \n",
            " dense_27 (Dense)            (None, 9)                 144       \n",
            "                                                                 \n",
            " dense_28 (Dense)            (None, 6)                 60        \n",
            "                                                                 \n",
            " dense_29 (Dense)            (None, 1)                 7         \n",
            "                                                                 \n",
            "=================================================================\n",
            "Total params: 726\n",
            "Trainable params: 726\n",
            "Non-trainable params: 0\n",
            "_________________________________________________________________\n",
            "None\n",
            "Model: \"sequential_12\"\n",
            "_________________________________________________________________\n",
            " Layer (type)                Output Shape              Param #   \n",
            "=================================================================\n",
            " dense_30 (Dense)            (None, 20)                200       \n",
            "                                                                 \n",
            " dense_31 (Dense)            (None, 15)                315       \n",
            "                                                                 \n",
            " dense_32 (Dense)            (None, 9)                 144       \n",
            "                                                                 \n",
            " dense_33 (Dense)            (None, 6)                 60        \n",
            "                                                                 \n",
            " dense_34 (Dense)            (None, 1)                 7         \n",
            "                                                                 \n",
            "=================================================================\n",
            "Total params: 726\n",
            "Trainable params: 726\n",
            "Non-trainable params: 0\n",
            "_________________________________________________________________\n",
            "None\n",
            "Model: \"sequential_13\"\n",
            "_________________________________________________________________\n",
            " Layer (type)                Output Shape              Param #   \n",
            "=================================================================\n",
            " dense_35 (Dense)            (None, 20)                200       \n",
            "                                                                 \n",
            " dense_36 (Dense)            (None, 15)                315       \n",
            "                                                                 \n",
            " dense_37 (Dense)            (None, 9)                 144       \n",
            "                                                                 \n",
            " dense_38 (Dense)            (None, 6)                 60        \n",
            "                                                                 \n",
            " dense_39 (Dense)            (None, 1)                 7         \n",
            "                                                                 \n",
            "=================================================================\n",
            "Total params: 726\n",
            "Trainable params: 726\n",
            "Non-trainable params: 0\n",
            "_________________________________________________________________\n",
            "None\n",
            "Model: \"sequential_14\"\n",
            "_________________________________________________________________\n",
            " Layer (type)                Output Shape              Param #   \n",
            "=================================================================\n",
            " dense_40 (Dense)            (None, 20)                200       \n",
            "                                                                 \n",
            " dense_41 (Dense)            (None, 15)                315       \n",
            "                                                                 \n",
            " dense_42 (Dense)            (None, 9)                 144       \n",
            "                                                                 \n",
            " dense_43 (Dense)            (None, 6)                 60        \n",
            "                                                                 \n",
            " dense_44 (Dense)            (None, 1)                 7         \n",
            "                                                                 \n",
            "=================================================================\n",
            "Total params: 726\n",
            "Trainable params: 726\n",
            "Non-trainable params: 0\n",
            "_________________________________________________________________\n",
            "None\n",
            "Model: \"sequential_15\"\n",
            "_________________________________________________________________\n",
            " Layer (type)                Output Shape              Param #   \n",
            "=================================================================\n",
            " dense_45 (Dense)            (None, 20)                200       \n",
            "                                                                 \n",
            " dense_46 (Dense)            (None, 15)                315       \n",
            "                                                                 \n",
            " dense_47 (Dense)            (None, 9)                 144       \n",
            "                                                                 \n",
            " dense_48 (Dense)            (None, 6)                 60        \n",
            "                                                                 \n",
            " dense_49 (Dense)            (None, 1)                 7         \n",
            "                                                                 \n",
            "=================================================================\n",
            "Total params: 726\n",
            "Trainable params: 726\n",
            "Non-trainable params: 0\n",
            "_________________________________________________________________\n",
            "None\n",
            "Model: \"sequential_16\"\n",
            "_________________________________________________________________\n",
            " Layer (type)                Output Shape              Param #   \n",
            "=================================================================\n",
            " dense_50 (Dense)            (None, 20)                200       \n",
            "                                                                 \n",
            " dense_51 (Dense)            (None, 15)                315       \n",
            "                                                                 \n",
            " dense_52 (Dense)            (None, 9)                 144       \n",
            "                                                                 \n",
            " dense_53 (Dense)            (None, 6)                 60        \n",
            "                                                                 \n",
            " dense_54 (Dense)            (None, 1)                 7         \n",
            "                                                                 \n",
            "=================================================================\n",
            "Total params: 726\n",
            "Trainable params: 726\n",
            "Non-trainable params: 0\n",
            "_________________________________________________________________\n",
            "None\n",
            "Model: \"sequential_17\"\n",
            "_________________________________________________________________\n",
            " Layer (type)                Output Shape              Param #   \n",
            "=================================================================\n",
            " dense_55 (Dense)            (None, 20)                200       \n",
            "                                                                 \n",
            " dense_56 (Dense)            (None, 15)                315       \n",
            "                                                                 \n",
            " dense_57 (Dense)            (None, 9)                 144       \n",
            "                                                                 \n",
            " dense_58 (Dense)            (None, 6)                 60        \n",
            "                                                                 \n",
            " dense_59 (Dense)            (None, 1)                 7         \n",
            "                                                                 \n",
            "=================================================================\n",
            "Total params: 726\n",
            "Trainable params: 726\n",
            "Non-trainable params: 0\n",
            "_________________________________________________________________\n",
            "None\n",
            "Model: \"sequential_18\"\n",
            "_________________________________________________________________\n",
            " Layer (type)                Output Shape              Param #   \n",
            "=================================================================\n",
            " dense_60 (Dense)            (None, 20)                200       \n",
            "                                                                 \n",
            " dense_61 (Dense)            (None, 15)                315       \n",
            "                                                                 \n",
            " dense_62 (Dense)            (None, 9)                 144       \n",
            "                                                                 \n",
            " dense_63 (Dense)            (None, 6)                 60        \n",
            "                                                                 \n",
            " dense_64 (Dense)            (None, 1)                 7         \n",
            "                                                                 \n",
            "=================================================================\n",
            "Total params: 726\n",
            "Trainable params: 726\n",
            "Non-trainable params: 0\n",
            "_________________________________________________________________\n",
            "None\n",
            "Model: \"sequential_19\"\n",
            "_________________________________________________________________\n",
            " Layer (type)                Output Shape              Param #   \n",
            "=================================================================\n",
            " dense_65 (Dense)            (None, 20)                200       \n",
            "                                                                 \n",
            " dense_66 (Dense)            (None, 15)                315       \n",
            "                                                                 \n",
            " dense_67 (Dense)            (None, 9)                 144       \n",
            "                                                                 \n",
            " dense_68 (Dense)            (None, 6)                 60        \n",
            "                                                                 \n",
            " dense_69 (Dense)            (None, 1)                 7         \n",
            "                                                                 \n",
            "=================================================================\n",
            "Total params: 726\n",
            "Trainable params: 726\n",
            "Non-trainable params: 0\n",
            "_________________________________________________________________\n",
            "None\n"
          ]
        }
      ]
    },
    {
      "cell_type": "code",
      "source": [
        "print(results)\n",
        "print(\"RMSE of Neural Networks: \",abs(results.mean()))"
      ],
      "metadata": {
        "id": "nlwCYSV5aEGc",
        "colab": {
          "base_uri": "https://localhost:8080/"
        },
        "outputId": "66b707eb-9ab1-4042-ed38-05edeec283ce"
      },
      "execution_count": null,
      "outputs": [
        {
          "output_type": "stream",
          "name": "stdout",
          "text": [
            "[-0.89435799 -0.92414337 -0.88071438 -0.87562923 -0.86846095 -0.87058261\n",
            " -0.88097591 -0.87948471 -0.89063104 -0.86549951]\n",
            "RMSE of Neural Networks:  0.8830479692574322\n"
          ]
        }
      ]
    }
  ]
}